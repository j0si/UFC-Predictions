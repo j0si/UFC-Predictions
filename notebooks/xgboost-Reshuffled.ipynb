{
 "cells": [
  {
   "cell_type": "code",
   "execution_count": 1,
   "metadata": {},
   "outputs": [
    {
     "name": "stderr",
     "output_type": "stream",
     "text": [
      "d:\\dev\\UFC-Predictions\\.venv\\lib\\site-packages\\xgboost\\compat.py:93: FutureWarning: pandas.Int64Index is deprecated and will be removed from pandas in a future version. Use pandas.Index with the appropriate dtype instead.\n",
      "  from pandas import MultiIndex, Int64Index\n"
     ]
    }
   ],
   "source": [
    "import pandas as pd\n",
    "import numpy as np\n",
    "import matplotlib.pyplot as plt\n",
    "import pickle\n",
    "from xgboost import XGBClassifier\n",
    "from sklearn.preprocessing import LabelEncoder\n",
    "import xgboost as xgb\n",
    "from sklearn.model_selection import train_test_split\n",
    "from sklearn.preprocessing import StandardScaler\n",
    "from sklearn.metrics import accuracy_score, classification_report,confusion_matrix, roc_auc_score\n",
    "from sklearn.utils.multiclass import unique_labels\n",
    "from sklearn.model_selection import GridSearchCV, RandomizedSearchCV\n",
    "\n",
    "%matplotlib inline"
   ]
  },
  {
   "cell_type": "code",
   "execution_count": 2,
   "metadata": {},
   "outputs": [],
   "source": [
    "df = pd.read_csv('../data/preprocessed_data.csv')"
   ]
  },
  {
   "cell_type": "code",
   "execution_count": 3,
   "metadata": {},
   "outputs": [
    {
     "data": {
      "text/html": [
       "<div>\n",
       "<style scoped>\n",
       "    .dataframe tbody tr th:only-of-type {\n",
       "        vertical-align: middle;\n",
       "    }\n",
       "\n",
       "    .dataframe tbody tr th {\n",
       "        vertical-align: top;\n",
       "    }\n",
       "\n",
       "    .dataframe thead th {\n",
       "        text-align: right;\n",
       "    }\n",
       "</style>\n",
       "<table border=\"1\" class=\"dataframe\">\n",
       "  <thead>\n",
       "    <tr style=\"text-align: right;\">\n",
       "      <th></th>\n",
       "      <th>Winner</th>\n",
       "      <th>title_bout</th>\n",
       "      <th>no_of_rounds</th>\n",
       "      <th>B_avg_KD</th>\n",
       "      <th>B_avg_opp_KD</th>\n",
       "      <th>B_avg_SIG_STR_pct</th>\n",
       "      <th>B_avg_opp_SIG_STR_pct</th>\n",
       "      <th>B_avg_TD_pct</th>\n",
       "      <th>B_avg_opp_TD_pct</th>\n",
       "      <th>B_avg_SUB_ATT</th>\n",
       "      <th>...</th>\n",
       "      <th>B_Stance_Open Stance</th>\n",
       "      <th>B_Stance_Orthodox</th>\n",
       "      <th>B_Stance_Sideways</th>\n",
       "      <th>B_Stance_Southpaw</th>\n",
       "      <th>B_Stance_Switch</th>\n",
       "      <th>R_Stance_Open Stance</th>\n",
       "      <th>R_Stance_Orthodox</th>\n",
       "      <th>R_Stance_Sideways</th>\n",
       "      <th>R_Stance_Southpaw</th>\n",
       "      <th>R_Stance_Switch</th>\n",
       "    </tr>\n",
       "  </thead>\n",
       "  <tbody>\n",
       "    <tr>\n",
       "      <th>0</th>\n",
       "      <td>Red</td>\n",
       "      <td>False</td>\n",
       "      <td>3</td>\n",
       "      <td>0.570801</td>\n",
       "      <td>0.3125</td>\n",
       "      <td>0.461431</td>\n",
       "      <td>0.504418</td>\n",
       "      <td>0.035756</td>\n",
       "      <td>0.143079</td>\n",
       "      <td>0.578613</td>\n",
       "      <td>...</td>\n",
       "      <td>0</td>\n",
       "      <td>1</td>\n",
       "      <td>0</td>\n",
       "      <td>0</td>\n",
       "      <td>0</td>\n",
       "      <td>0</td>\n",
       "      <td>0</td>\n",
       "      <td>0</td>\n",
       "      <td>0</td>\n",
       "      <td>1</td>\n",
       "    </tr>\n",
       "    <tr>\n",
       "      <th>1</th>\n",
       "      <td>Blue</td>\n",
       "      <td>False</td>\n",
       "      <td>3</td>\n",
       "      <td>0.000000</td>\n",
       "      <td>0.7500</td>\n",
       "      <td>0.411250</td>\n",
       "      <td>0.467500</td>\n",
       "      <td>0.000000</td>\n",
       "      <td>0.000000</td>\n",
       "      <td>0.000000</td>\n",
       "      <td>...</td>\n",
       "      <td>0</td>\n",
       "      <td>0</td>\n",
       "      <td>0</td>\n",
       "      <td>0</td>\n",
       "      <td>1</td>\n",
       "      <td>0</td>\n",
       "      <td>1</td>\n",
       "      <td>0</td>\n",
       "      <td>0</td>\n",
       "      <td>0</td>\n",
       "    </tr>\n",
       "    <tr>\n",
       "      <th>2</th>\n",
       "      <td>Blue</td>\n",
       "      <td>False</td>\n",
       "      <td>3</td>\n",
       "      <td>0.000000</td>\n",
       "      <td>0.0000</td>\n",
       "      <td>0.560000</td>\n",
       "      <td>0.550000</td>\n",
       "      <td>0.280000</td>\n",
       "      <td>0.000000</td>\n",
       "      <td>1.000000</td>\n",
       "      <td>...</td>\n",
       "      <td>0</td>\n",
       "      <td>1</td>\n",
       "      <td>0</td>\n",
       "      <td>0</td>\n",
       "      <td>0</td>\n",
       "      <td>0</td>\n",
       "      <td>0</td>\n",
       "      <td>0</td>\n",
       "      <td>0</td>\n",
       "      <td>1</td>\n",
       "    </tr>\n",
       "    <tr>\n",
       "      <th>3</th>\n",
       "      <td>Red</td>\n",
       "      <td>False</td>\n",
       "      <td>3</td>\n",
       "      <td>0.000000</td>\n",
       "      <td>0.1250</td>\n",
       "      <td>0.220625</td>\n",
       "      <td>0.515000</td>\n",
       "      <td>0.108750</td>\n",
       "      <td>0.250000</td>\n",
       "      <td>0.062500</td>\n",
       "      <td>...</td>\n",
       "      <td>0</td>\n",
       "      <td>1</td>\n",
       "      <td>0</td>\n",
       "      <td>0</td>\n",
       "      <td>0</td>\n",
       "      <td>0</td>\n",
       "      <td>0</td>\n",
       "      <td>0</td>\n",
       "      <td>1</td>\n",
       "      <td>0</td>\n",
       "    </tr>\n",
       "    <tr>\n",
       "      <th>4</th>\n",
       "      <td>Red</td>\n",
       "      <td>False</td>\n",
       "      <td>3</td>\n",
       "      <td>0.500000</td>\n",
       "      <td>0.0000</td>\n",
       "      <td>0.590000</td>\n",
       "      <td>0.465000</td>\n",
       "      <td>0.000000</td>\n",
       "      <td>0.500000</td>\n",
       "      <td>0.000000</td>\n",
       "      <td>...</td>\n",
       "      <td>0</td>\n",
       "      <td>0</td>\n",
       "      <td>0</td>\n",
       "      <td>1</td>\n",
       "      <td>0</td>\n",
       "      <td>0</td>\n",
       "      <td>1</td>\n",
       "      <td>0</td>\n",
       "      <td>0</td>\n",
       "      <td>0</td>\n",
       "    </tr>\n",
       "  </tbody>\n",
       "</table>\n",
       "<p>5 rows × 161 columns</p>\n",
       "</div>"
      ],
      "text/plain": [
       "  Winner  title_bout  no_of_rounds  B_avg_KD  B_avg_opp_KD  B_avg_SIG_STR_pct  \\\n",
       "0    Red       False             3  0.570801        0.3125           0.461431   \n",
       "1   Blue       False             3  0.000000        0.7500           0.411250   \n",
       "2   Blue       False             3  0.000000        0.0000           0.560000   \n",
       "3    Red       False             3  0.000000        0.1250           0.220625   \n",
       "4    Red       False             3  0.500000        0.0000           0.590000   \n",
       "\n",
       "   B_avg_opp_SIG_STR_pct  B_avg_TD_pct  B_avg_opp_TD_pct  B_avg_SUB_ATT  ...  \\\n",
       "0               0.504418      0.035756          0.143079       0.578613  ...   \n",
       "1               0.467500      0.000000          0.000000       0.000000  ...   \n",
       "2               0.550000      0.280000          0.000000       1.000000  ...   \n",
       "3               0.515000      0.108750          0.250000       0.062500  ...   \n",
       "4               0.465000      0.000000          0.500000       0.000000  ...   \n",
       "\n",
       "   B_Stance_Open Stance  B_Stance_Orthodox  B_Stance_Sideways  \\\n",
       "0                     0                  1                  0   \n",
       "1                     0                  0                  0   \n",
       "2                     0                  1                  0   \n",
       "3                     0                  1                  0   \n",
       "4                     0                  0                  0   \n",
       "\n",
       "   B_Stance_Southpaw  B_Stance_Switch  R_Stance_Open Stance  \\\n",
       "0                  0                0                     0   \n",
       "1                  0                1                     0   \n",
       "2                  0                0                     0   \n",
       "3                  0                0                     0   \n",
       "4                  1                0                     0   \n",
       "\n",
       "   R_Stance_Orthodox  R_Stance_Sideways  R_Stance_Southpaw  R_Stance_Switch  \n",
       "0                  0                  0                  0                1  \n",
       "1                  1                  0                  0                0  \n",
       "2                  0                  0                  0                1  \n",
       "3                  0                  0                  1                0  \n",
       "4                  1                  0                  0                0  \n",
       "\n",
       "[5 rows x 161 columns]"
      ]
     },
     "execution_count": 3,
     "metadata": {},
     "output_type": "execute_result"
    }
   ],
   "source": [
    "df.head()"
   ]
  },
  {
   "cell_type": "markdown",
   "metadata": {},
   "source": [
    "### Normalizing data"
   ]
  },
  {
   "cell_type": "code",
   "execution_count": 5,
   "metadata": {},
   "outputs": [],
   "source": [
    "df_num = df.select_dtypes(include=[float, int])"
   ]
  },
  {
   "cell_type": "code",
   "execution_count": 6,
   "metadata": {},
   "outputs": [],
   "source": [
    "scaler = StandardScaler()\n",
    "\n",
    "df[list(df_num.columns)] = scaler.fit_transform(df[list(df_num.columns)])"
   ]
  },
  {
   "cell_type": "code",
   "execution_count": 7,
   "metadata": {},
   "outputs": [],
   "source": [
    "with open('../models/standard.scaler', 'wb') as f:\n",
    "    pickle.dump(scaler, f)"
   ]
  },
  {
   "cell_type": "markdown",
   "metadata": {},
   "source": [
    "### Making target variable balanced"
   ]
  },
  {
   "cell_type": "code",
   "execution_count": 8,
   "metadata": {},
   "outputs": [
    {
     "data": {
      "text/plain": [
       "Red     4525\n",
       "Blue    2315\n",
       "Name: Winner, dtype: int64"
      ]
     },
     "execution_count": 8,
     "metadata": {},
     "output_type": "execute_result"
    }
   ],
   "source": [
    "df['Winner'].value_counts()"
   ]
  },
  {
   "cell_type": "code",
   "execution_count": 9,
   "metadata": {},
   "outputs": [
    {
     "data": {
      "text/plain": [
       "1105.0"
      ]
     },
     "execution_count": 9,
     "metadata": {},
     "output_type": "execute_result"
    }
   ],
   "source": [
    "target_value = df['Winner'].value_counts().Red - ((df['Winner'].value_counts().Red + df['Winner'].value_counts().Blue) / 2)\n",
    "target_value"
   ]
  },
  {
   "cell_type": "code",
   "execution_count": 10,
   "metadata": {},
   "outputs": [],
   "source": [
    "sample = df[df['Winner']=='Red'].sample(n=int(target_value))\n",
    "df.drop(sample.index, inplace=True)"
   ]
  },
  {
   "cell_type": "code",
   "execution_count": 11,
   "metadata": {},
   "outputs": [],
   "source": [
    "rename_cols = {}\n",
    "for column in sample.columns:\n",
    "    if column.startswith('B_'):\n",
    "        rename_cols['B_' + column.split('B_', 1)[1]] = 'R_' + column.split('B_', 1)[1]\n",
    "        rename_cols['R_' + column.split('B_', 1)[1]] = 'B_' + column.split('B_', 1)[1]\n",
    "\n",
    "sample.rename(rename_cols, axis='columns', inplace=True)\n",
    "sample.replace({'Winner': 'Red'}, 'Blue', inplace=True)"
   ]
  },
  {
   "cell_type": "code",
   "execution_count": 12,
   "metadata": {},
   "outputs": [],
   "source": [
    "df = pd.concat([df, sample]).sort_index()"
   ]
  },
  {
   "cell_type": "markdown",
   "metadata": {},
   "source": [
    "### Shuffling data"
   ]
  },
  {
   "cell_type": "code",
   "execution_count": 13,
   "metadata": {},
   "outputs": [],
   "source": [
    "sample1 = df[df['Winner']=='Red'].sample(n=2000)\n",
    "sample2 = df[df['Winner']=='Blue'].sample(n=2000)\n",
    "\n",
    "df.drop(sample1.index, inplace=True)\n",
    "df.drop(sample2.index, inplace=True)"
   ]
  },
  {
   "cell_type": "code",
   "execution_count": 14,
   "metadata": {},
   "outputs": [],
   "source": [
    "rename_cols = {}\n",
    "for column in sample.columns:\n",
    "    if column.startswith('B_'):\n",
    "        rename_cols['B_' + column.split('B_', 1)[1]] = 'R_' + column.split('B_', 1)[1]\n",
    "        rename_cols['R_' + column.split('B_', 1)[1]] = 'B_' + column.split('B_', 1)[1]\n",
    "\n",
    "sample1.rename(rename_cols, axis='columns', inplace=True)\n",
    "sample2.rename(rename_cols, axis='columns', inplace=True)"
   ]
  },
  {
   "cell_type": "code",
   "execution_count": 15,
   "metadata": {},
   "outputs": [],
   "source": [
    "sample1.replace({'Winner': 'Red'}, 'Blue', inplace=True)\n",
    "sample2.replace({'Winner': 'Blue'}, 'Red', inplace=True)"
   ]
  },
  {
   "cell_type": "code",
   "execution_count": 16,
   "metadata": {},
   "outputs": [],
   "source": [
    "df = pd.concat([df, sample1, sample2]).sort_index()"
   ]
  },
  {
   "cell_type": "markdown",
   "metadata": {},
   "source": [
    "### Splitting into train, test"
   ]
  },
  {
   "cell_type": "code",
   "execution_count": 17,
   "metadata": {},
   "outputs": [],
   "source": [
    "y = df['Winner']\n",
    "label_encoder = LabelEncoder()\n",
    "label_encoder = label_encoder.fit(y)\n",
    "label_encoded_y = label_encoder.transform(y)\n",
    "# y_test = label_encoder.transform(Test['Winner'])\n",
    "\n",
    "X = df.drop(columns='Winner')\n",
    "# X_test = Test.drop(columns='Winner')\n",
    "# X_test = X_test[X.columns]\n",
    "\n",
    "X_train, X_valid, y_train, y_valid = train_test_split(X, label_encoded_y, test_size=0.1, random_state=41)"
   ]
  },
  {
   "cell_type": "markdown",
   "metadata": {},
   "source": [
    "### Fitting baseline Xgboost"
   ]
  },
  {
   "cell_type": "code",
   "execution_count": 18,
   "metadata": {},
   "outputs": [],
   "source": [
    "def plot_confusion(cm, classes):\n",
    "    fig, ax = plt.subplots()\n",
    "    im = ax.imshow(cm, interpolation='nearest', cmap=plt.cm.Blues)\n",
    "    ax.figure.colorbar(im, ax=ax)\n",
    "    # We want to show all ticks...\n",
    "    ax.set(xticks=np.arange(cm.shape[1]),\n",
    "           yticks=np.arange(cm.shape[0]),\n",
    "           # ... and label them with the respective list entries\n",
    "           xticklabels=classes, yticklabels=classes,\n",
    "           title='Confusion Matrix',\n",
    "           ylabel='True label',\n",
    "           xlabel='Predicted label')\n",
    "    # Loop over data dimensions and create text annotations.\n",
    "    fmt = 'd'\n",
    "    thresh = cm.max() / 2.\n",
    "    for i in range(cm.shape[0]):\n",
    "        for j in range(cm.shape[1]):\n",
    "            ax.text(j, i, format(cm[i, j], fmt),\n",
    "                    ha=\"center\", va=\"center\",\n",
    "                    color=\"white\" if cm[i, j] > thresh else \"black\")\n",
    "    fig.tight_layout()\n",
    "    return ax"
   ]
  },
  {
   "cell_type": "code",
   "execution_count": 19,
   "metadata": {},
   "outputs": [],
   "source": [
    "def modelfit(alg, X_train, y_train, X_valid, y_valid, X_test=None, y_test=None,\n",
    "             useTrainCV=False, test_set=False, cv_folds=5, early_stopping_rounds=50):\n",
    "    \n",
    "    if useTrainCV:\n",
    "        xgb_param = alg.get_xgb_params()\n",
    "        xgtrain = xgb.DMatrix(X_train, label=y_train)\n",
    "        cvresult = xgb.cv(xgb_param, xgtrain, num_boost_round=alg.get_params()['n_estimators'], nfold=cv_folds,\n",
    "            metrics='auc', early_stopping_rounds=early_stopping_rounds)\n",
    "        alg.set_params(n_estimators=cvresult.shape[0])\n",
    "        print(f\"Best number of estimators = {cvresult.shape[0]}\")\n",
    "    \n",
    "    #Fit the algorithm on the data\n",
    "    alg.fit(np.array(X_train), np.array(y_train), eval_metric='auc')\n",
    "    \n",
    "    #Predict train set:\n",
    "    dtrain_predictions = alg.predict(np.array(X_train))\n",
    "    dtrain_predprob = alg.predict_proba(np.array(X_train))[:,1]\n",
    "        \n",
    "    #Predict valid set:\n",
    "    dvalid_predictions = alg.predict(np.array(X_valid))\n",
    "    dvalid_predprob = alg.predict_proba(np.array(X_valid))[:,1]\n",
    "    \n",
    "    #Predict test set:\n",
    "    dtest_predictions = None\n",
    "    if test_set:\n",
    "        dtest_predictions = alg.predict(np.array(X_test))\n",
    "        dtest_predprob = alg.predict_proba(np.array(X_test))[:,1]\n",
    "        \n",
    "    #Print model report:\n",
    "    print(\"\\nModel Report: \")\n",
    "    if useTrainCV:\n",
    "        print(f\"AUC Score (Train): {roc_auc_score(y_train, dtrain_predprob)}\")\n",
    "    print(f\"Accuracy (valid): {accuracy_score(y_valid, dvalid_predictions):.4f}\")\n",
    "    print(f\"AUC Score (valid): {roc_auc_score(y_valid, dvalid_predprob):.4f}\")\n",
    "    if test_set:\n",
    "        print(f\"Accuracy (Test): {accuracy_score(y_test, dtest_predictions):.4f}\")\n",
    "        print(f\"AUC Score (Test): {roc_auc_score(y_test, dtest_predprob):.4f}\")\n",
    "    \n",
    "    \n",
    "    return dvalid_predictions, dtest_predictions"
   ]
  },
  {
   "cell_type": "code",
   "execution_count": 20,
   "metadata": {},
   "outputs": [
    {
     "name": "stdout",
     "output_type": "stream",
     "text": [
      "\n",
      "Model Report: \n",
      "Accuracy (valid): 0.6784\n",
      "AUC Score (valid): 0.7471\n"
     ]
    },
    {
     "data": {
      "text/plain": [
       "<Axes: title={'center': 'Confusion Matrix'}, xlabel='Predicted label', ylabel='True label'>"
      ]
     },
     "execution_count": 20,
     "metadata": {},
     "output_type": "execute_result"
    },
    {
     "data": {
      "image/png": "[encoded data removed]",
      "text/plain": [
       "<Figure size 640x480 with 2 Axes>"
      ]
     },
     "metadata": {},
     "output_type": "display_data"
    }
   ],
   "source": [
    "model1 = XGBClassifier(random_state=43, n_jobs=-1)\n",
    "\n",
    "y1_valid_preds, y1_test_preds = modelfit(model1, X_train, y_train, X_valid, y_valid)\n",
    "\n",
    "cm_valid = confusion_matrix(y_valid, y1_valid_preds)\n",
    "# cm_test = confusion_matrix(y_test, y1_test_preds)\n",
    "classes = unique_labels(y_valid, y1_valid_preds)\n",
    "\n",
    "plot_confusion(cm_valid, classes)"
   ]
  },
  {
   "cell_type": "code",
   "execution_count": 21,
   "metadata": {},
   "outputs": [
    {
     "data": {
      "text/plain": [
       "[('B_Stance_Sideways', 0.371661),\n",
       " ('B_win_by_Decision_Split', 0.013545249),\n",
       " ('R_win_by_Decision_Split', 0.011278275),\n",
       " (\"weight_class_Women's Bantamweight\", 0.008831353),\n",
       " ('B_avg_opp_DISTANCE_landed', 0.00847919),\n",
       " ('no_of_rounds', 0.008133024),\n",
       " ('B_age', 0.007577314),\n",
       " ('B_avg_SIG_STR_att', 0.007314868),\n",
       " ('R_losses', 0.0067007546),\n",
       " ('weight_class_Featherweight', 0.0066703893),\n",
       " ('R_Stance_Orthodox', 0.0065557123),\n",
       " ('B_avg_opp_SIG_STR_landed', 0.0063645984),\n",
       " ('R_avg_opp_HEAD_landed', 0.00634936),\n",
       " ('weight_class_Middleweight', 0.006342157),\n",
       " ('R_avg_opp_DISTANCE_att', 0.0061659315),\n",
       " ('R_wins', 0.0061407546),\n",
       " ('R_Stance_Switch', 0.0059110145),\n",
       " ('R_avg_opp_DISTANCE_landed', 0.005831971),\n",
       " ('B_avg_DISTANCE_landed', 0.005779571),\n",
       " ('R_age', 0.0056402734),\n",
       " ('B_avg_opp_BODY_att', 0.0055054063),\n",
       " ('title_bout', 0.0054181907),\n",
       " ('R_current_win_streak', 0.00541246),\n",
       " ('R_avg_opp_KD', 0.005389673),\n",
       " ('R_Weight_lbs', 0.005131892),\n",
       " ('R_avg_opp_GROUND_landed', 0.005064902),\n",
       " ('B_Weight_lbs', 0.0050242953),\n",
       " ('R_avg_opp_BODY_landed', 0.0049862387),\n",
       " ('B_avg_BODY_att', 0.00493955),\n",
       " ('R_win_by_Decision_Unanimous', 0.004937073),\n",
       " ('B_avg_opp_SIG_STR_pct', 0.0048974026),\n",
       " ('B_avg_REV', 0.004896033),\n",
       " ('weight_class_Welterweight', 0.0048717703),\n",
       " ('R_avg_DISTANCE_landed', 0.0048265024),\n",
       " ('B_avg_opp_CTRL_time(seconds)', 0.004764464),\n",
       " ('B_win_by_TKO_Doctor_Stoppage', 0.0047613108),\n",
       " ('B_Reach_cms', 0.0047558504),\n",
       " ('B_avg_KD', 0.004742074),\n",
       " ('B_avg_TD_pct', 0.0046530594),\n",
       " ('R_avg_CLINCH_landed', 0.004612899),\n",
       " ('B_avg_HEAD_landed', 0.0046110004),\n",
       " ('R_avg_DISTANCE_att', 0.004602454),\n",
       " ('weight_class_Flyweight', 0.004592907),\n",
       " ('R_avg_TOTAL_STR_att', 0.0045797094),\n",
       " ('R_avg_opp_GROUND_att', 0.0045472328),\n",
       " ('R_avg_opp_SIG_STR_landed', 0.004537186),\n",
       " ('R_avg_opp_TD_att', 0.004500544),\n",
       " ('R_avg_GROUND_att', 0.004400834),\n",
       " ('B_avg_opp_KD', 0.0043427316),\n",
       " ('B_avg_TOTAL_STR_att', 0.0042690258),\n",
       " ('B_avg_opp_HEAD_landed', 0.004243179),\n",
       " ('B_win_by_Decision_Unanimous', 0.0042043775),\n",
       " ('B_avg_BODY_landed', 0.004186337),\n",
       " ('R_avg_opp_SIG_STR_pct', 0.0041753547),\n",
       " ('B_avg_CLINCH_landed', 0.004170147),\n",
       " ('B_avg_opp_HEAD_att', 0.0041367933),\n",
       " ('R_avg_opp_TOTAL_STR_landed', 0.004136767),\n",
       " ('B_avg_LEG_att', 0.004123256),\n",
       " ('R_avg_TD_landed', 0.004110791),\n",
       " ('R_avg_KD', 0.0041031437),\n",
       " ('weight_class_Lightweight', 0.004090886),\n",
       " ('R_avg_HEAD_landed', 0.0040750126),\n",
       " ('B_avg_TD_att', 0.0040601506),\n",
       " ('B_avg_GROUND_landed', 0.0040241457),\n",
       " ('B_avg_opp_LEG_landed', 0.0040137246),\n",
       " ('R_avg_SUB_ATT', 0.00395786),\n",
       " ('R_Reach_cms', 0.003947172),\n",
       " ('R_avg_opp_TD_pct', 0.003944345),\n",
       " ('B_total_rounds_fought', 0.003935403),\n",
       " ('R_avg_opp_LEG_att', 0.003927658),\n",
       " ('R_total_time_fought(seconds)', 0.0039177686),\n",
       " ('B_avg_SIG_STR_pct', 0.003901695),\n",
       " ('R_avg_opp_SUB_ATT', 0.0039012327),\n",
       " ('R_avg_TD_pct', 0.0038860568),\n",
       " ('B_avg_opp_TD_pct', 0.003884154),\n",
       " ('B_avg_DISTANCE_att', 0.0038796398),\n",
       " ('R_avg_GROUND_landed', 0.0038784142),\n",
       " ('R_avg_TOTAL_STR_landed', 0.0038620408),\n",
       " ('R_avg_opp_REV', 0.003842273),\n",
       " ('B_avg_opp_CLINCH_landed', 0.003822764),\n",
       " ('B_avg_GROUND_att', 0.0038165608),\n",
       " ('B_avg_opp_SUB_ATT', 0.0038131452),\n",
       " ('B_avg_opp_BODY_landed', 0.003775022),\n",
       " ('B_avg_SIG_STR_landed', 0.003750146),\n",
       " ('B_avg_opp_DISTANCE_att', 0.0037500858),\n",
       " ('R_avg_SIG_STR_landed', 0.003730233),\n",
       " ('R_avg_TD_att', 0.003717347),\n",
       " ('R_avg_opp_TOTAL_STR_att', 0.0037054862),\n",
       " ('R_avg_BODY_landed', 0.0036985704),\n",
       " ('B_Stance_Switch', 0.003696536),\n",
       " ('B_avg_opp_CLINCH_att', 0.0036626277),\n",
       " ('B_avg_CTRL_time(seconds)', 0.0036540627),\n",
       " ('B_avg_TD_landed', 0.0036265992),\n",
       " ('B_total_time_fought(seconds)', 0.0036078603),\n",
       " ('R_avg_opp_CLINCH_landed', 0.0035826203),\n",
       " ('R_avg_opp_HEAD_att', 0.0035310711),\n",
       " ('B_losses', 0.003512135),\n",
       " ('B_avg_opp_GROUND_landed', 0.0034962732),\n",
       " ('B_avg_SUB_ATT', 0.0034740854),\n",
       " ('B_avg_opp_TD_landed', 0.0034631721),\n",
       " ('B_avg_opp_TOTAL_STR_att', 0.00345228),\n",
       " ('B_avg_opp_TD_att', 0.0034449883),\n",
       " ('R_total_rounds_fought', 0.0034348671),\n",
       " ('R_avg_SIG_STR_pct', 0.003422404),\n",
       " ('B_win_by_KO/TKO', 0.0034145974),\n",
       " ('R_avg_LEG_landed', 0.0034104562),\n",
       " ('B_avg_opp_LEG_att', 0.003385787),\n",
       " ('R_avg_CTRL_time(seconds)', 0.0033682166),\n",
       " ('R_avg_opp_CTRL_time(seconds)', 0.0033583203),\n",
       " ('R_avg_SIG_STR_att', 0.003357078),\n",
       " ('B_Stance_Open Stance', 0.0032891224),\n",
       " ('R_avg_REV', 0.003278747),\n",
       " ('B_wins', 0.003275834),\n",
       " ('B_avg_TOTAL_STR_landed', 0.0032275387),\n",
       " ('R_avg_opp_CLINCH_att', 0.0032151656),\n",
       " ('B_avg_opp_TOTAL_STR_landed', 0.0031957438),\n",
       " ('R_avg_opp_LEG_landed', 0.0031714262),\n",
       " ('B_avg_opp_SIG_STR_att', 0.0031501136),\n",
       " ('B_avg_CLINCH_att', 0.0031386393),\n",
       " ('B_avg_opp_REV', 0.0031137553),\n",
       " ('B_avg_HEAD_att', 0.0030992038),\n",
       " ('B_current_win_streak', 0.003078316),\n",
       " ('R_avg_LEG_att', 0.00307198),\n",
       " ('B_avg_LEG_landed', 0.0030647856),\n",
       " ('R_Stance_Southpaw', 0.0030622184),\n",
       " ('R_avg_BODY_att', 0.0030606552),\n",
       " ('R_win_by_Submission', 0.0030270135),\n",
       " ('R_avg_opp_SIG_STR_att', 0.0029907061),\n",
       " ('R_Height_cms', 0.0029827412),\n",
       " ('B_Height_cms', 0.0029348829),\n",
       " ('B_current_lose_streak', 0.0029320712),\n",
       " ('R_win_by_KO/TKO', 0.00290288),\n",
       " ('R_avg_opp_BODY_att', 0.0028866287),\n",
       " ('R_avg_CLINCH_att', 0.0028380128),\n",
       " ('B_avg_opp_GROUND_att', 0.0028065012),\n",
       " ('R_avg_HEAD_att', 0.0027814305),\n",
       " ('R_avg_opp_TD_landed', 0.0027567428),\n",
       " ('B_longest_win_streak', 0.00272107),\n",
       " ('weight_class_Bantamweight', 0.0027139802),\n",
       " ('weight_class_Light Heavyweight', 0.002681424),\n",
       " ('R_longest_win_streak', 0.002670284),\n",
       " ('R_current_lose_streak', 0.0024923524),\n",
       " ('B_total_title_bouts', 0.0024312136),\n",
       " ('B_win_by_Submission', 0.0023736756),\n",
       " ('B_Stance_Southpaw', 0.0023389314),\n",
       " ('B_Stance_Orthodox', 0.002274755),\n",
       " ('weight_class_Catch Weight', 0.0022236237),\n",
       " (\"weight_class_Women's Strawweight\", 0.0021660277),\n",
       " ('R_win_by_TKO_Doctor_Stoppage', 0.0021096491),\n",
       " (\"weight_class_Women's Flyweight\", 0.002052302),\n",
       " ('B_win_by_Decision_Majority', 0.0017136998),\n",
       " ('R_total_title_bouts', 0.0014015534),\n",
       " ('B_draw', 0.0),\n",
       " ('R_draw', 0.0),\n",
       " ('R_win_by_Decision_Majority', 0.0),\n",
       " ('weight_class_Heavyweight', 0.0),\n",
       " ('weight_class_Open Weight', 0.0),\n",
       " (\"weight_class_Women's Featherweight\", 0.0),\n",
       " ('R_Stance_Open Stance', 0.0),\n",
       " ('R_Stance_Sideways', 0.0)]"
      ]
     },
     "execution_count": 21,
     "metadata": {},
     "output_type": "execute_result"
    }
   ],
   "source": [
    "feat_imps = {}\n",
    "for i, imp in enumerate(model1.feature_importances_):\n",
    "    feat_imps[X_train.columns[i]] = imp\n",
    "\n",
    "sorted_imp_feats = (sorted(feat_imps.items(), key = lambda x: x[1], reverse=True))\n",
    "sorted_imp_feats"
   ]
  },
  {
   "cell_type": "markdown",
   "metadata": {},
   "source": [
    "### Hyperparameter tuning "
   ]
  },
  {
   "cell_type": "code",
   "execution_count": 22,
   "metadata": {},
   "outputs": [
    {
     "name": "stdout",
     "output_type": "stream",
     "text": [
      "\n",
      "Model Report: \n",
      "Accuracy (valid): 0.6652\n",
      "AUC Score (valid): 0.7465\n"
     ]
    },
    {
     "data": {
      "text/plain": [
       "<Axes: title={'center': 'Confusion Matrix'}, xlabel='Predicted label', ylabel='True label'>"
      ]
     },
     "execution_count": 22,
     "metadata": {},
     "output_type": "execute_result"
    },
    {
     "data": {
      "image/png": "[encoded data removed]",
      "text/plain": [
       "<Figure size 640x480 with 2 Axes>"
      ]
     },
     "metadata": {},
     "output_type": "display_data"
    }
   ],
   "source": [
    "model3 = XGBClassifier(\n",
    " learning_rate =0.1,\n",
    " n_estimators=1000,\n",
    " max_depth=5,\n",
    " min_child_weight=1,\n",
    " gamma=0,\n",
    " subsample=0.8,\n",
    " colsample_bytree=0.8,\n",
    " objective= 'binary:logistic',\n",
    " nthread=4\n",
    "#  scale_pos_weight=0.5,\n",
    ")\n",
    "\n",
    "y3_valid_preds, y3_test_preds = modelfit(model3, X_train, y_train, X_valid, y_valid)\n",
    "\n",
    "cm_valid = confusion_matrix(y_valid, y3_valid_preds)\n",
    "# cm_test = confusion_matrix(y_test, y3_test_preds)\n",
    "classes = unique_labels(y_valid, y3_valid_preds)\n",
    "\n",
    "plot_confusion(cm_valid, classes)"
   ]
  },
  {
   "cell_type": "code",
   "execution_count": 23,
   "metadata": {
    "scrolled": false
   },
   "outputs": [
    {
     "name": "stdout",
     "output_type": "stream",
     "text": [
      "\n",
      "Model Report: \n",
      "Accuracy (valid): 0.6725\n",
      "AUC Score (valid): 0.7514\n"
     ]
    },
    {
     "data": {
      "text/plain": [
       "<Axes: title={'center': 'Confusion Matrix'}, xlabel='Predicted label', ylabel='True label'>"
      ]
     },
     "execution_count": 23,
     "metadata": {},
     "output_type": "execute_result"
    },
    {
     "data": {
      "image/png": "[encoded data removed]",
      "text/plain": [
       "<Figure size 640x480 with 2 Axes>"
      ]
     },
     "metadata": {},
     "output_type": "display_data"
    }
   ],
   "source": [
    "model5 = XGBClassifier(\n",
    " learning_rate =0.1,\n",
    " n_estimators=120,\n",
    " max_depth=3,\n",
    " min_child_weight=1,\n",
    " gamma=0.3,\n",
    " subsample=1,\n",
    " colsample_bytree=1,\n",
    " objective= 'binary:logistic',\n",
    " nthread=4,\n",
    " scale_pos_weight=1,\n",
    ")\n",
    "\n",
    "y5_valid_preds, y5_test_preds = modelfit(model5, X_train, y_train, X_valid, y_valid)\n",
    "\n",
    "cm_valid = confusion_matrix(y_valid, y5_valid_preds)\n",
    "# cm_test = confusion_matrix(y_test, y5_test_preds)\n",
    "classes = unique_labels(y_valid, y5_valid_preds)\n",
    "\n",
    "plot_confusion(cm_valid, classes)"
   ]
  },
  {
   "cell_type": "code",
   "execution_count": 24,
   "metadata": {},
   "outputs": [
    {
     "name": "stdout",
     "output_type": "stream",
     "text": [
      "              precision    recall  f1-score   support\n",
      "\n",
      "           0       0.68      0.68      0.68       346\n",
      "           1       0.68      0.67      0.67       338\n",
      "\n",
      "    accuracy                           0.68       684\n",
      "   macro avg       0.68      0.68      0.68       684\n",
      "weighted avg       0.68      0.68      0.68       684\n",
      "\n"
     ]
    }
   ],
   "source": [
    "print(classification_report(y_valid, y1_valid_preds))"
   ]
  },
  {
   "cell_type": "code",
   "execution_count": 25,
   "metadata": {},
   "outputs": [
    {
     "name": "stdout",
     "output_type": "stream",
     "text": [
      "              precision    recall  f1-score   support\n",
      "\n",
      "           0       0.67      0.65      0.66       346\n",
      "           1       0.66      0.68      0.67       338\n",
      "\n",
      "    accuracy                           0.67       684\n",
      "   macro avg       0.67      0.67      0.67       684\n",
      "weighted avg       0.67      0.67      0.67       684\n",
      "\n"
     ]
    }
   ],
   "source": [
    "print(classification_report(y_valid, y3_valid_preds))"
   ]
  },
  {
   "cell_type": "code",
   "execution_count": 26,
   "metadata": {},
   "outputs": [
    {
     "name": "stdout",
     "output_type": "stream",
     "text": [
      "              precision    recall  f1-score   support\n",
      "\n",
      "           0       0.68      0.67      0.67       346\n",
      "           1       0.67      0.68      0.67       338\n",
      "\n",
      "    accuracy                           0.67       684\n",
      "   macro avg       0.67      0.67      0.67       684\n",
      "weighted avg       0.67      0.67      0.67       684\n",
      "\n"
     ]
    }
   ],
   "source": [
    "print(classification_report(y_valid, y5_valid_preds))"
   ]
  },
  {
   "cell_type": "code",
   "execution_count": 27,
   "metadata": {},
   "outputs": [
    {
     "data": {
      "text/html": [
       "<style>#sk-container-id-1 {color: black;background-color: white;}#sk-container-id-1 pre{padding: 0;}#sk-container-id-1 div.sk-toggleable {background-color: white;}#sk-container-id-1 label.sk-toggleable__label {cursor: pointer;display: block;width: 100%;margin-bottom: 0;padding: 0.3em;box-sizing: border-box;text-align: center;}#sk-container-id-1 label.sk-toggleable__label-arrow:before {content: \"▸\";float: left;margin-right: 0.25em;color: #696969;}#sk-container-id-1 label.sk-toggleable__label-arrow:hover:before {color: black;}#sk-container-id-1 div.sk-estimator:hover label.sk-toggleable__label-arrow:before {color: black;}#sk-container-id-1 div.sk-toggleable__content {max-height: 0;max-width: 0;overflow: hidden;text-align: left;background-color: #f0f8ff;}#sk-container-id-1 div.sk-toggleable__content pre {margin: 0.2em;color: black;border-radius: 0.25em;background-color: #f0f8ff;}#sk-container-id-1 input.sk-toggleable__control:checked~div.sk-toggleable__content {max-height: 200px;max-width: 100%;overflow: auto;}#sk-container-id-1 input.sk-toggleable__control:checked~label.sk-toggleable__label-arrow:before {content: \"▾\";}#sk-container-id-1 div.sk-estimator input.sk-toggleable__control:checked~label.sk-toggleable__label {background-color: #d4ebff;}#sk-container-id-1 div.sk-label input.sk-toggleable__control:checked~label.sk-toggleable__label {background-color: #d4ebff;}#sk-container-id-1 input.sk-hidden--visually {border: 0;clip: rect(1px 1px 1px 1px);clip: rect(1px, 1px, 1px, 1px);height: 1px;margin: -1px;overflow: hidden;padding: 0;position: absolute;width: 1px;}#sk-container-id-1 div.sk-estimator {font-family: monospace;background-color: #f0f8ff;border: 1px dotted black;border-radius: 0.25em;box-sizing: border-box;margin-bottom: 0.5em;}#sk-container-id-1 div.sk-estimator:hover {background-color: #d4ebff;}#sk-container-id-1 div.sk-parallel-item::after {content: \"\";width: 100%;border-bottom: 1px solid gray;flex-grow: 1;}#sk-container-id-1 div.sk-label:hover label.sk-toggleable__label {background-color: #d4ebff;}#sk-container-id-1 div.sk-serial::before {content: \"\";position: absolute;border-left: 1px solid gray;box-sizing: border-box;top: 0;bottom: 0;left: 50%;z-index: 0;}#sk-container-id-1 div.sk-serial {display: flex;flex-direction: column;align-items: center;background-color: white;padding-right: 0.2em;padding-left: 0.2em;position: relative;}#sk-container-id-1 div.sk-item {position: relative;z-index: 1;}#sk-container-id-1 div.sk-parallel {display: flex;align-items: stretch;justify-content: center;background-color: white;position: relative;}#sk-container-id-1 div.sk-item::before, #sk-container-id-1 div.sk-parallel-item::before {content: \"\";position: absolute;border-left: 1px solid gray;box-sizing: border-box;top: 0;bottom: 0;left: 50%;z-index: -1;}#sk-container-id-1 div.sk-parallel-item {display: flex;flex-direction: column;z-index: 1;position: relative;background-color: white;}#sk-container-id-1 div.sk-parallel-item:first-child::after {align-self: flex-end;width: 50%;}#sk-container-id-1 div.sk-parallel-item:last-child::after {align-self: flex-start;width: 50%;}#sk-container-id-1 div.sk-parallel-item:only-child::after {width: 0;}#sk-container-id-1 div.sk-dashed-wrapped {border: 1px dashed gray;margin: 0 0.4em 0.5em 0.4em;box-sizing: border-box;padding-bottom: 0.4em;background-color: white;}#sk-container-id-1 div.sk-label label {font-family: monospace;font-weight: bold;display: inline-block;line-height: 1.2em;}#sk-container-id-1 div.sk-label-container {text-align: center;}#sk-container-id-1 div.sk-container {/* jupyter's `normalize.less` sets `[hidden] { display: none; }` but bootstrap.min.css set `[hidden] { display: none !important; }` so we also need the `!important` here to be able to override the default hidden behavior on the sphinx rendered scikit-learn.org. See: https://github.com/scikit-learn/scikit-learn/issues/21755 */display: inline-block !important;position: relative;}#sk-container-id-1 div.sk-text-repr-fallback {display: none;}</style><div id=\"sk-container-id-1\" class=\"sk-top-container\"><div class=\"sk-text-repr-fallback\"><pre>XGBClassifier(base_score=0.5, booster=None, colsample_bylevel=1,\n",
       "              colsample_bynode=1, colsample_bytree=0.8, gamma=0, gpu_id=-1,\n",
       "              importance_type=&#x27;gain&#x27;, interaction_constraints=None,\n",
       "              learning_rate=0.1, max_delta_step=0, max_depth=5,\n",
       "              min_child_weight=1, missing=nan, monotone_constraints=None,\n",
       "              n_estimators=1000, n_jobs=4, nthread=4, num_parallel_tree=1,\n",
       "              random_state=0, reg_alpha=0, reg_lambda=1, scale_pos_weight=1,\n",
       "              subsample=0.8, tree_method=None, validate_parameters=False,\n",
       "              verbosity=None)</pre><b>In a Jupyter environment, please rerun this cell to show the HTML representation or trust the notebook. <br />On GitHub, the HTML representation is unable to render, please try loading this page with nbviewer.org.</b></div><div class=\"sk-container\" hidden><div class=\"sk-item\"><div class=\"sk-estimator sk-toggleable\"><input class=\"sk-toggleable__control sk-hidden--visually\" id=\"sk-estimator-id-1\" type=\"checkbox\" checked><label for=\"sk-estimator-id-1\" class=\"sk-toggleable__label sk-toggleable__label-arrow\">XGBClassifier</label><div class=\"sk-toggleable__content\"><pre>XGBClassifier(base_score=0.5, booster=None, colsample_bylevel=1,\n",
       "              colsample_bynode=1, colsample_bytree=0.8, gamma=0, gpu_id=-1,\n",
       "              importance_type=&#x27;gain&#x27;, interaction_constraints=None,\n",
       "              learning_rate=0.1, max_delta_step=0, max_depth=5,\n",
       "              min_child_weight=1, missing=nan, monotone_constraints=None,\n",
       "              n_estimators=1000, n_jobs=4, nthread=4, num_parallel_tree=1,\n",
       "              random_state=0, reg_alpha=0, reg_lambda=1, scale_pos_weight=1,\n",
       "              subsample=0.8, tree_method=None, validate_parameters=False,\n",
       "              verbosity=None)</pre></div></div></div></div></div>"
      ],
      "text/plain": [
       "XGBClassifier(base_score=0.5, booster=None, colsample_bylevel=1,\n",
       "              colsample_bynode=1, colsample_bytree=0.8, gamma=0, gpu_id=-1,\n",
       "              importance_type='gain', interaction_constraints=None,\n",
       "              learning_rate=0.1, max_delta_step=0, max_depth=5,\n",
       "              min_child_weight=1, missing=nan, monotone_constraints=None,\n",
       "              n_estimators=1000, n_jobs=4, nthread=4, num_parallel_tree=1,\n",
       "              random_state=0, reg_alpha=0, reg_lambda=1, scale_pos_weight=1,\n",
       "              subsample=0.8, tree_method=None, validate_parameters=False,\n",
       "              verbosity=None)"
      ]
     },
     "execution_count": 27,
     "metadata": {},
     "output_type": "execute_result"
    }
   ],
   "source": [
    "model = model3\n",
    "\n",
    "model.fit(np.array(X), np.array(label_encoded_y))"
   ]
  },
  {
   "cell_type": "code",
   "execution_count": 28,
   "metadata": {},
   "outputs": [],
   "source": [
    "with open('../models/model.sav', 'wb') as f:\n",
    "    pickle.dump(model, f)"
   ]
  },
  {
   "cell_type": "code",
   "execution_count": 29,
   "metadata": {},
   "outputs": [],
   "source": [
    "with open('../models/model.sav', 'rb') as f:\n",
    "    mdl = pickle.load(f)"
   ]
  },
  {
   "cell_type": "code",
   "execution_count": 30,
   "metadata": {},
   "outputs": [
    {
     "data": {
      "text/plain": [
       "array([1, 1, 1, 1, 1, 1, 1, 0, 0, 1, 0, 1, 1, 1, 1, 0, 0, 1, 1, 1, 0, 1,\n",
       "       0, 1, 1, 1, 0, 0, 1, 1, 1, 1, 1, 1, 0, 0, 1, 0, 1, 1])"
      ]
     },
     "execution_count": 30,
     "metadata": {},
     "output_type": "execute_result"
    }
   ],
   "source": [
    "mdl.predict(np.array(X[:40]))"
   ]
  },
  {
   "cell_type": "code",
   "execution_count": null,
   "metadata": {},
   "outputs": [],
   "source": []
  }
 ],
 "metadata": {
  "kernelspec": {
   "display_name": ".venv",
   "language": "python",
   "name": "python3"
  },
  "language_info": {
   "codemirror_mode": {
    "name": "ipython",
    "version": 3
   },
   "file_extension": ".py",
   "mimetype": "text/x-python",
   "name": "python",
   "nbconvert_exporter": "python",
   "pygments_lexer": "ipython3",
   "version": "3.10.3"
  },
  "vscode": {
   "interpreter": {
    "hash": "dad91d58c16ceb4cae50f987a9a88c7b95e1dab218045da93da7cd29d6261c1a"
   }
  }
 },
 "nbformat": 4,
 "nbformat_minor": 2
}
