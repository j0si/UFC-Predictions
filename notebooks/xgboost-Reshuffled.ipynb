{
 "cells": [
  {
   "cell_type": "code",
   "execution_count": 9,
   "metadata": {},
   "outputs": [],
   "source": [
    "import pandas as pd\n",
    "import numpy as np\n",
    "import matplotlib.pyplot as plt\n",
    "import pickle\n",
    "from xgboost import XGBClassifier\n",
    "from sklearn.preprocessing import LabelEncoder\n",
    "import xgboost as xgb\n",
    "from sklearn.model_selection import train_test_split\n",
    "from sklearn.preprocessing import StandardScaler\n",
    "from sklearn.metrics import accuracy_score, classification_report,confusion_matrix, roc_auc_score\n",
    "from sklearn.utils.multiclass import unique_labels\n",
    "from sklearn.model_selection import GridSearchCV, RandomizedSearchCV\n",
    "\n",
    "%matplotlib inline"
   ]
  },
  {
   "cell_type": "code",
   "execution_count": 10,
   "metadata": {},
   "outputs": [],
   "source": [
    "df = pd.read_csv('../data/preprocessed_data.csv')"
   ]
  },
  {
   "cell_type": "code",
   "execution_count": 11,
   "metadata": {},
   "outputs": [
    {
     "data": {
      "text/html": [
       "<div>\n",
       "<style scoped>\n",
       "    .dataframe tbody tr th:only-of-type {\n",
       "        vertical-align: middle;\n",
       "    }\n",
       "\n",
       "    .dataframe tbody tr th {\n",
       "        vertical-align: top;\n",
       "    }\n",
       "\n",
       "    .dataframe thead th {\n",
       "        text-align: right;\n",
       "    }\n",
       "</style>\n",
       "<table border=\"1\" class=\"dataframe\">\n",
       "  <thead>\n",
       "    <tr style=\"text-align: right;\">\n",
       "      <th></th>\n",
       "      <th>Winner</th>\n",
       "      <th>title_bout</th>\n",
       "      <th>no_of_rounds</th>\n",
       "      <th>B_avg_KD</th>\n",
       "      <th>B_avg_opp_KD</th>\n",
       "      <th>B_avg_SIG_STR_pct</th>\n",
       "      <th>B_avg_opp_SIG_STR_pct</th>\n",
       "      <th>B_avg_TD_pct</th>\n",
       "      <th>B_avg_opp_TD_pct</th>\n",
       "      <th>B_avg_SUB_ATT</th>\n",
       "      <th>...</th>\n",
       "      <th>B_Stance_Open Stance</th>\n",
       "      <th>B_Stance_Orthodox</th>\n",
       "      <th>B_Stance_Sideways</th>\n",
       "      <th>B_Stance_Southpaw</th>\n",
       "      <th>B_Stance_Switch</th>\n",
       "      <th>R_Stance_Open Stance</th>\n",
       "      <th>R_Stance_Orthodox</th>\n",
       "      <th>R_Stance_Sideways</th>\n",
       "      <th>R_Stance_Southpaw</th>\n",
       "      <th>R_Stance_Switch</th>\n",
       "    </tr>\n",
       "  </thead>\n",
       "  <tbody>\n",
       "    <tr>\n",
       "      <th>0</th>\n",
       "      <td>Red</td>\n",
       "      <td>False</td>\n",
       "      <td>3</td>\n",
       "      <td>0.570801</td>\n",
       "      <td>0.3125</td>\n",
       "      <td>0.461431</td>\n",
       "      <td>0.504418</td>\n",
       "      <td>0.035756</td>\n",
       "      <td>0.143079</td>\n",
       "      <td>0.578613</td>\n",
       "      <td>...</td>\n",
       "      <td>0</td>\n",
       "      <td>1</td>\n",
       "      <td>0</td>\n",
       "      <td>0</td>\n",
       "      <td>0</td>\n",
       "      <td>0</td>\n",
       "      <td>0</td>\n",
       "      <td>0</td>\n",
       "      <td>0</td>\n",
       "      <td>1</td>\n",
       "    </tr>\n",
       "    <tr>\n",
       "      <th>1</th>\n",
       "      <td>Blue</td>\n",
       "      <td>False</td>\n",
       "      <td>3</td>\n",
       "      <td>0.000000</td>\n",
       "      <td>0.7500</td>\n",
       "      <td>0.411250</td>\n",
       "      <td>0.467500</td>\n",
       "      <td>0.000000</td>\n",
       "      <td>0.000000</td>\n",
       "      <td>0.000000</td>\n",
       "      <td>...</td>\n",
       "      <td>0</td>\n",
       "      <td>0</td>\n",
       "      <td>0</td>\n",
       "      <td>0</td>\n",
       "      <td>1</td>\n",
       "      <td>0</td>\n",
       "      <td>1</td>\n",
       "      <td>0</td>\n",
       "      <td>0</td>\n",
       "      <td>0</td>\n",
       "    </tr>\n",
       "    <tr>\n",
       "      <th>2</th>\n",
       "      <td>Blue</td>\n",
       "      <td>False</td>\n",
       "      <td>3</td>\n",
       "      <td>0.000000</td>\n",
       "      <td>0.0000</td>\n",
       "      <td>0.560000</td>\n",
       "      <td>0.550000</td>\n",
       "      <td>0.280000</td>\n",
       "      <td>0.000000</td>\n",
       "      <td>1.000000</td>\n",
       "      <td>...</td>\n",
       "      <td>0</td>\n",
       "      <td>1</td>\n",
       "      <td>0</td>\n",
       "      <td>0</td>\n",
       "      <td>0</td>\n",
       "      <td>0</td>\n",
       "      <td>0</td>\n",
       "      <td>0</td>\n",
       "      <td>0</td>\n",
       "      <td>1</td>\n",
       "    </tr>\n",
       "    <tr>\n",
       "      <th>3</th>\n",
       "      <td>Red</td>\n",
       "      <td>False</td>\n",
       "      <td>3</td>\n",
       "      <td>0.000000</td>\n",
       "      <td>0.1250</td>\n",
       "      <td>0.220625</td>\n",
       "      <td>0.515000</td>\n",
       "      <td>0.108750</td>\n",
       "      <td>0.250000</td>\n",
       "      <td>0.062500</td>\n",
       "      <td>...</td>\n",
       "      <td>0</td>\n",
       "      <td>1</td>\n",
       "      <td>0</td>\n",
       "      <td>0</td>\n",
       "      <td>0</td>\n",
       "      <td>0</td>\n",
       "      <td>0</td>\n",
       "      <td>0</td>\n",
       "      <td>1</td>\n",
       "      <td>0</td>\n",
       "    </tr>\n",
       "    <tr>\n",
       "      <th>4</th>\n",
       "      <td>Red</td>\n",
       "      <td>False</td>\n",
       "      <td>3</td>\n",
       "      <td>0.500000</td>\n",
       "      <td>0.0000</td>\n",
       "      <td>0.590000</td>\n",
       "      <td>0.465000</td>\n",
       "      <td>0.000000</td>\n",
       "      <td>0.500000</td>\n",
       "      <td>0.000000</td>\n",
       "      <td>...</td>\n",
       "      <td>0</td>\n",
       "      <td>0</td>\n",
       "      <td>0</td>\n",
       "      <td>1</td>\n",
       "      <td>0</td>\n",
       "      <td>0</td>\n",
       "      <td>1</td>\n",
       "      <td>0</td>\n",
       "      <td>0</td>\n",
       "      <td>0</td>\n",
       "    </tr>\n",
       "  </tbody>\n",
       "</table>\n",
       "<p>5 rows × 161 columns</p>\n",
       "</div>"
      ],
      "text/plain": [
       "  Winner  title_bout  no_of_rounds  B_avg_KD  B_avg_opp_KD  B_avg_SIG_STR_pct  \\\n",
       "0    Red       False             3  0.570801        0.3125           0.461431   \n",
       "1   Blue       False             3  0.000000        0.7500           0.411250   \n",
       "2   Blue       False             3  0.000000        0.0000           0.560000   \n",
       "3    Red       False             3  0.000000        0.1250           0.220625   \n",
       "4    Red       False             3  0.500000        0.0000           0.590000   \n",
       "\n",
       "   B_avg_opp_SIG_STR_pct  B_avg_TD_pct  B_avg_opp_TD_pct  B_avg_SUB_ATT  ...  \\\n",
       "0               0.504418      0.035756          0.143079       0.578613  ...   \n",
       "1               0.467500      0.000000          0.000000       0.000000  ...   \n",
       "2               0.550000      0.280000          0.000000       1.000000  ...   \n",
       "3               0.515000      0.108750          0.250000       0.062500  ...   \n",
       "4               0.465000      0.000000          0.500000       0.000000  ...   \n",
       "\n",
       "   B_Stance_Open Stance  B_Stance_Orthodox  B_Stance_Sideways  \\\n",
       "0                     0                  1                  0   \n",
       "1                     0                  0                  0   \n",
       "2                     0                  1                  0   \n",
       "3                     0                  1                  0   \n",
       "4                     0                  0                  0   \n",
       "\n",
       "   B_Stance_Southpaw  B_Stance_Switch  R_Stance_Open Stance  \\\n",
       "0                  0                0                     0   \n",
       "1                  0                1                     0   \n",
       "2                  0                0                     0   \n",
       "3                  0                0                     0   \n",
       "4                  1                0                     0   \n",
       "\n",
       "   R_Stance_Orthodox  R_Stance_Sideways  R_Stance_Southpaw  R_Stance_Switch  \n",
       "0                  0                  0                  0                1  \n",
       "1                  1                  0                  0                0  \n",
       "2                  0                  0                  0                1  \n",
       "3                  0                  0                  1                0  \n",
       "4                  1                  0                  0                0  \n",
       "\n",
       "[5 rows x 161 columns]"
      ]
     },
     "execution_count": 11,
     "metadata": {},
     "output_type": "execute_result"
    }
   ],
   "source": [
    "df.head()"
   ]
  },
  {
   "cell_type": "markdown",
   "metadata": {},
   "source": [
    "### Normalizing data"
   ]
  },
  {
   "cell_type": "code",
   "execution_count": 12,
   "metadata": {},
   "outputs": [],
   "source": [
    "df_num = df.select_dtypes(include=[np.float, np.int])"
   ]
  },
  {
   "cell_type": "code",
   "execution_count": 13,
   "metadata": {},
   "outputs": [],
   "source": [
    "scaler = StandardScaler()\n",
    "\n",
    "df[list(df_num.columns)] = scaler.fit_transform(df[list(df_num.columns)])"
   ]
  },
  {
   "cell_type": "code",
   "execution_count": 14,
   "metadata": {},
   "outputs": [],
   "source": [
    "with open('../models/standard.scaler', 'wb') as f:\n",
    "    pickle.dump(scaler, f)"
   ]
  },
  {
   "cell_type": "markdown",
   "metadata": {},
   "source": [
    "### Making target variable balanced"
   ]
  },
  {
   "cell_type": "code",
   "execution_count": 15,
   "metadata": {},
   "outputs": [
    {
     "data": {
      "text/plain": [
       "Red     4525\n",
       "Blue    2315\n",
       "Name: Winner, dtype: int64"
      ]
     },
     "execution_count": 15,
     "metadata": {},
     "output_type": "execute_result"
    }
   ],
   "source": [
    "df['Winner'].value_counts()"
   ]
  },
  {
   "cell_type": "code",
   "execution_count": 19,
   "metadata": {},
   "outputs": [
    {
     "data": {
      "text/plain": [
       "1105.0"
      ]
     },
     "execution_count": 19,
     "metadata": {},
     "output_type": "execute_result"
    }
   ],
   "source": [
    "target_value = df['Winner'].value_counts().Red - ((df['Winner'].value_counts().Red + df['Winner'].value_counts().Blue) / 2)\n",
    "target_value"
   ]
  },
  {
   "cell_type": "code",
   "execution_count": 20,
   "metadata": {},
   "outputs": [],
   "source": [
    "sample = df[df['Winner']=='Red'].sample(n=int(target_value))\n",
    "df.drop(sample.index, inplace=True)"
   ]
  },
  {
   "cell_type": "code",
   "execution_count": 21,
   "metadata": {},
   "outputs": [],
   "source": [
    "rename_cols = {}\n",
    "for column in sample.columns:\n",
    "    if column.startswith('B_'):\n",
    "        rename_cols['B_' + column.split('B_', 1)[1]] = 'R_' + column.split('B_', 1)[1]\n",
    "        rename_cols['R_' + column.split('B_', 1)[1]] = 'B_' + column.split('B_', 1)[1]\n",
    "\n",
    "sample.rename(rename_cols, axis='columns', inplace=True)\n",
    "sample.replace({'Winner': 'Red'}, 'Blue', inplace=True)"
   ]
  },
  {
   "cell_type": "code",
   "execution_count": 22,
   "metadata": {},
   "outputs": [],
   "source": [
    "df = pd.concat([df, sample]).sort_index()"
   ]
  },
  {
   "cell_type": "markdown",
   "metadata": {},
   "source": [
    "### Shuffling data"
   ]
  },
  {
   "cell_type": "code",
   "execution_count": 40,
   "metadata": {},
   "outputs": [],
   "source": [
    "sample1 = df[df['Winner']=='Red'].sample(n=2000)\n",
    "sample2 = df[df['Winner']=='Blue'].sample(n=2000)\n",
    "\n",
    "df.drop(sample1.index, inplace=True)\n",
    "df.drop(sample2.index, inplace=True)"
   ]
  },
  {
   "cell_type": "code",
   "execution_count": 41,
   "metadata": {},
   "outputs": [],
   "source": [
    "rename_cols = {}\n",
    "for column in sample.columns:\n",
    "    if column.startswith('B_'):\n",
    "        rename_cols['B_' + column.split('B_', 1)[1]] = 'R_' + column.split('B_', 1)[1]\n",
    "        rename_cols['R_' + column.split('B_', 1)[1]] = 'B_' + column.split('B_', 1)[1]\n",
    "\n",
    "sample1.rename(rename_cols, axis='columns', inplace=True)\n",
    "sample2.rename(rename_cols, axis='columns', inplace=True)"
   ]
  },
  {
   "cell_type": "code",
   "execution_count": 42,
   "metadata": {},
   "outputs": [],
   "source": [
    "sample1.replace({'Winner': 'Red'}, 'Blue', inplace=True)\n",
    "sample2.replace({'Winner': 'Blue'}, 'Red', inplace=True)"
   ]
  },
  {
   "cell_type": "code",
   "execution_count": 43,
   "metadata": {},
   "outputs": [],
   "source": [
    "df = pd.concat([df, sample1, sample2]).sort_index()"
   ]
  },
  {
   "cell_type": "markdown",
   "metadata": {},
   "source": [
    "### Splitting into train, test"
   ]
  },
  {
   "cell_type": "code",
   "execution_count": 44,
   "metadata": {},
   "outputs": [],
   "source": [
    "y = df['Winner']\n",
    "label_encoder = LabelEncoder()\n",
    "label_encoder = label_encoder.fit(y)\n",
    "label_encoded_y = label_encoder.transform(y)\n",
    "# y_test = label_encoder.transform(Test['Winner'])\n",
    "\n",
    "X = df.drop(columns='Winner')\n",
    "# X_test = Test.drop(columns='Winner')\n",
    "# X_test = X_test[X.columns]\n",
    "\n",
    "X_train, X_valid, y_train, y_valid = train_test_split(X, label_encoded_y, test_size=0.1, random_state=41)"
   ]
  },
  {
   "cell_type": "markdown",
   "metadata": {},
   "source": [
    "### Fitting baseline Xgboost"
   ]
  },
  {
   "cell_type": "code",
   "execution_count": 45,
   "metadata": {},
   "outputs": [],
   "source": [
    "def plot_confusion(cm, classes):\n",
    "    fig, ax = plt.subplots()\n",
    "    im = ax.imshow(cm, interpolation='nearest', cmap=plt.cm.Blues)\n",
    "    ax.figure.colorbar(im, ax=ax)\n",
    "    # We want to show all ticks...\n",
    "    ax.set(xticks=np.arange(cm.shape[1]),\n",
    "           yticks=np.arange(cm.shape[0]),\n",
    "           # ... and label them with the respective list entries\n",
    "           xticklabels=classes, yticklabels=classes,\n",
    "           title='Confusion Matrix',\n",
    "           ylabel='True label',\n",
    "           xlabel='Predicted label')\n",
    "    # Loop over data dimensions and create text annotations.\n",
    "    fmt = 'd'\n",
    "    thresh = cm.max() / 2.\n",
    "    for i in range(cm.shape[0]):\n",
    "        for j in range(cm.shape[1]):\n",
    "            ax.text(j, i, format(cm[i, j], fmt),\n",
    "                    ha=\"center\", va=\"center\",\n",
    "                    color=\"white\" if cm[i, j] > thresh else \"black\")\n",
    "    fig.tight_layout()\n",
    "    return ax"
   ]
  },
  {
   "cell_type": "code",
   "execution_count": 46,
   "metadata": {},
   "outputs": [],
   "source": [
    "def modelfit(alg, X_train, y_train, X_valid, y_valid, X_test=None, y_test=None,\n",
    "             useTrainCV=False, test_set=False, cv_folds=5, early_stopping_rounds=50):\n",
    "    \n",
    "    if useTrainCV:\n",
    "        xgb_param = alg.get_xgb_params()\n",
    "        xgtrain = xgb.DMatrix(X_train, label=y_train)\n",
    "        cvresult = xgb.cv(xgb_param, xgtrain, num_boost_round=alg.get_params()['n_estimators'], nfold=cv_folds,\n",
    "            metrics='auc', early_stopping_rounds=early_stopping_rounds)\n",
    "        alg.set_params(n_estimators=cvresult.shape[0])\n",
    "        print(f\"Best number of estimators = {cvresult.shape[0]}\")\n",
    "    \n",
    "    #Fit the algorithm on the data\n",
    "    alg.fit(np.array(X_train), np.array(y_train), eval_metric='auc')\n",
    "    \n",
    "    #Predict train set:\n",
    "    dtrain_predictions = alg.predict(np.array(X_train))\n",
    "    dtrain_predprob = alg.predict_proba(np.array(X_train))[:,1]\n",
    "        \n",
    "    #Predict valid set:\n",
    "    dvalid_predictions = alg.predict(np.array(X_valid))\n",
    "    dvalid_predprob = alg.predict_proba(np.array(X_valid))[:,1]\n",
    "    \n",
    "    #Predict test set:\n",
    "    dtest_predictions = None\n",
    "    if test_set:\n",
    "        dtest_predictions = alg.predict(np.array(X_test))\n",
    "        dtest_predprob = alg.predict_proba(np.array(X_test))[:,1]\n",
    "        \n",
    "    #Print model report:\n",
    "    print(\"\\nModel Report: \")\n",
    "    if useTrainCV:\n",
    "        print(f\"AUC Score (Train): {roc_auc_score(y_train, dtrain_predprob)}\")\n",
    "    print(f\"Accuracy (valid): {accuracy_score(y_valid, dvalid_predictions):.4f}\")\n",
    "    print(f\"AUC Score (valid): {roc_auc_score(y_valid, dvalid_predprob):.4f}\")\n",
    "    if test_set:\n",
    "        print(f\"Accuracy (Test): {accuracy_score(y_test, dtest_predictions):.4f}\")\n",
    "        print(f\"AUC Score (Test): {roc_auc_score(y_test, dtest_predprob):.4f}\")\n",
    "    \n",
    "    \n",
    "    return dvalid_predictions, dtest_predictions"
   ]
  },
  {
   "cell_type": "code",
   "execution_count": 47,
   "metadata": {},
   "outputs": [
    {
     "name": "stderr",
     "output_type": "stream",
     "text": [
      "d:\\Python\\lib\\site-packages\\xgboost\\sklearn.py:861: UserWarning: `eval_metric` in `fit` method is deprecated for better compatibility with scikit-learn, use `eval_metric` in constructor or`set_params` instead.\n",
      "  warnings.warn(\n"
     ]
    },
    {
     "name": "stdout",
     "output_type": "stream",
     "text": [
      "\n",
      "Model Report: \n",
      "Accuracy (valid): 0.6608\n",
      "AUC Score (valid): 0.7199\n"
     ]
    },
    {
     "data": {
      "text/plain": [
       "<matplotlib.axes._subplots.AxesSubplot at 0x1dbf79bff10>"
      ]
     },
     "execution_count": 47,
     "metadata": {},
     "output_type": "execute_result"
    },
    {
     "data": {
      "image/png": "[encoded data removed]",
      "text/plain": [
       "<Figure size 432x288 with 2 Axes>"
      ]
     },
     "metadata": {
      "needs_background": "light"
     },
     "output_type": "display_data"
    }
   ],
   "source": [
    "model1 = XGBClassifier(random_state=43, n_jobs=-1)\n",
    "\n",
    "y1_valid_preds, y1_test_preds = modelfit(model1, X_train, y_train, X_valid, y_valid)\n",
    "\n",
    "cm_valid = confusion_matrix(y_valid, y1_valid_preds)\n",
    "# cm_test = confusion_matrix(y_test, y1_test_preds)\n",
    "classes = unique_labels(y_valid, y1_valid_preds)\n",
    "\n",
    "plot_confusion(cm_valid, classes)"
   ]
  },
  {
   "cell_type": "code",
   "execution_count": 48,
   "metadata": {},
   "outputs": [
    {
     "data": {
      "text/plain": [
       "[('B_avg_opp_KD', 0.056554094),\n",
       " ('R_avg_opp_KD', 0.03947),\n",
       " ('B_avg_opp_REV', 0.021943472),\n",
       " ('no_of_rounds', 0.011359561),\n",
       " ('B_win_by_Decision_Split', 0.010802321),\n",
       " ('B_avg_opp_DISTANCE_landed', 0.0097730225),\n",
       " ('R_age', 0.009403752),\n",
       " ('R_avg_GROUND_att', 0.009112607),\n",
       " ('B_age', 0.009094639),\n",
       " ('B_avg_opp_HEAD_landed', 0.009010224),\n",
       " ('R_avg_REV', 0.008936432),\n",
       " ('R_avg_opp_LEG_landed', 0.00864145),\n",
       " ('B_avg_REV', 0.008450942),\n",
       " ('B_avg_SIG_STR_att', 0.008286873),\n",
       " ('B_avg_opp_GROUND_landed', 0.008282392),\n",
       " ('B_avg_TOTAL_STR_att', 0.008233477),\n",
       " ('B_avg_TD_att', 0.008184783),\n",
       " ('B_Weight_lbs', 0.0080154855),\n",
       " ('R_avg_opp_DISTANCE_landed', 0.007998514),\n",
       " ('R_longest_win_streak', 0.007983037),\n",
       " ('R_avg_TOTAL_STR_att', 0.007971861),\n",
       " ('R_avg_opp_BODY_att', 0.0078555895),\n",
       " ('B_avg_CTRL_time(seconds)', 0.007795715),\n",
       " ('R_avg_opp_TOTAL_STR_landed', 0.00778228),\n",
       " ('R_Reach_cms', 0.00774813),\n",
       " ('R_avg_KD', 0.007703426),\n",
       " ('R_losses', 0.0076484643),\n",
       " ('weight_class_Welterweight', 0.0075030704),\n",
       " ('B_avg_opp_CLINCH_landed', 0.0073691253),\n",
       " ('B_avg_HEAD_landed', 0.0073526287),\n",
       " ('R_avg_DISTANCE_att', 0.0073390105),\n",
       " ('B_avg_opp_SIG_STR_landed', 0.007332027),\n",
       " ('B_avg_GROUND_att', 0.007293732),\n",
       " ('B_avg_opp_BODY_att', 0.007292825),\n",
       " ('R_avg_SIG_STR_pct', 0.0072720572),\n",
       " ('R_avg_opp_BODY_landed', 0.0072668954),\n",
       " ('R_avg_opp_DISTANCE_att', 0.007231674),\n",
       " ('B_avg_LEG_landed', 0.007196608),\n",
       " ('B_avg_opp_SIG_STR_pct', 0.0071423627),\n",
       " ('R_avg_SIG_STR_landed', 0.0070681693),\n",
       " ('R_avg_opp_CLINCH_landed', 0.006959734),\n",
       " ('B_avg_GROUND_landed', 0.0069007953),\n",
       " ('B_Reach_cms', 0.00689344),\n",
       " ('R_avg_opp_GROUND_att', 0.0068743257),\n",
       " ('B_avg_opp_TD_pct', 0.0068334434),\n",
       " ('R_avg_TD_pct', 0.006794675),\n",
       " ('R_avg_opp_SIG_STR_att', 0.0067769573),\n",
       " ('B_total_time_fought(seconds)', 0.006769074),\n",
       " ('B_avg_KD', 0.006723815),\n",
       " ('B_avg_opp_DISTANCE_att', 0.006720435),\n",
       " ('R_avg_SIG_STR_att', 0.006715699),\n",
       " ('R_avg_DISTANCE_landed', 0.006681176),\n",
       " ('R_avg_opp_SIG_STR_pct', 0.006674415),\n",
       " ('R_avg_opp_CTRL_time(seconds)', 0.0066009816),\n",
       " ('R_avg_BODY_att', 0.0065878034),\n",
       " ('B_avg_BODY_att', 0.0065260436),\n",
       " ('R_Stance_Switch', 0.0065024635),\n",
       " ('B_losses', 0.0064967247),\n",
       " ('R_avg_opp_GROUND_landed', 0.0064714793),\n",
       " ('R_avg_TD_att', 0.0064695133),\n",
       " ('R_avg_TD_landed', 0.006447861),\n",
       " ('R_avg_opp_TOTAL_STR_att', 0.0064456477),\n",
       " ('R_avg_HEAD_att', 0.0064390763),\n",
       " ('B_total_rounds_fought', 0.0064076525),\n",
       " ('B_avg_opp_CTRL_time(seconds)', 0.006378083),\n",
       " ('R_avg_LEG_landed', 0.006360097),\n",
       " ('B_avg_DISTANCE_landed', 0.0063594556),\n",
       " ('R_avg_opp_SUB_ATT', 0.006351312),\n",
       " ('B_avg_opp_TD_att', 0.0063330145),\n",
       " ('R_avg_CTRL_time(seconds)', 0.0063313358),\n",
       " ('B_avg_TD_landed', 0.0063290056),\n",
       " ('R_avg_opp_HEAD_landed', 0.0063222917),\n",
       " ('R_current_win_streak', 0.0062972996),\n",
       " ('B_current_win_streak', 0.0062415856),\n",
       " ('R_avg_SUB_ATT', 0.006202321),\n",
       " ('R_Height_cms', 0.006190037),\n",
       " ('R_avg_opp_TD_att', 0.0061718803),\n",
       " ('B_avg_opp_TD_landed', 0.0061400197),\n",
       " ('R_avg_opp_TD_landed', 0.0061105383),\n",
       " ('B_avg_SIG_STR_landed', 0.0060978606),\n",
       " ('weight_class_Light Heavyweight', 0.0060594934),\n",
       " ('B_avg_BODY_landed', 0.006046279),\n",
       " ('R_avg_CLINCH_att', 0.0060315807),\n",
       " ('B_win_by_KO/TKO', 0.006013123),\n",
       " ('R_avg_opp_CLINCH_att', 0.0060078045),\n",
       " ('R_Weight_lbs', 0.005961712),\n",
       " ('R_avg_GROUND_landed', 0.0059596556),\n",
       " ('weight_class_Flyweight', 0.0059437943),\n",
       " ('weight_class_Middleweight', 0.0059189075),\n",
       " ('B_avg_SUB_ATT', 0.0059181),\n",
       " ('B_avg_SIG_STR_pct', 0.0058948444),\n",
       " ('R_win_by_Decision_Split', 0.0058768974),\n",
       " ('B_avg_opp_TOTAL_STR_att', 0.0058746417),\n",
       " ('R_wins', 0.005856797),\n",
       " ('B_avg_opp_LEG_landed', 0.005821184),\n",
       " ('R_avg_HEAD_landed', 0.005716958),\n",
       " ('B_wins', 0.0057155294),\n",
       " ('B_avg_opp_CLINCH_att', 0.0056952736),\n",
       " ('R_avg_opp_REV', 0.0056757326),\n",
       " ('weight_class_Featherweight', 0.0056481264),\n",
       " ('R_avg_CLINCH_landed', 0.00562535),\n",
       " ('R_avg_opp_LEG_att', 0.005615282),\n",
       " ('R_avg_BODY_landed', 0.005597848),\n",
       " ('B_avg_opp_BODY_landed', 0.005512622),\n",
       " ('B_avg_opp_GROUND_att', 0.0054380596),\n",
       " ('B_avg_TOTAL_STR_landed', 0.005414543),\n",
       " ('R_avg_opp_SIG_STR_landed', 0.0053908564),\n",
       " ('B_avg_LEG_att', 0.0053621004),\n",
       " ('B_avg_CLINCH_att', 0.0053578806),\n",
       " ('B_avg_opp_SIG_STR_att', 0.005215349),\n",
       " ('B_avg_opp_HEAD_att', 0.0051809554),\n",
       " ('B_avg_opp_LEG_att', 0.0051556667),\n",
       " ('B_Stance_Southpaw', 0.005107609),\n",
       " ('B_Height_cms', 0.0051054345),\n",
       " ('B_avg_opp_SUB_ATT', 0.0051043928),\n",
       " ('B_total_title_bouts', 0.0050886283),\n",
       " ('B_avg_TD_pct', 0.005080702),\n",
       " ('R_win_by_KO/TKO', 0.005052178),\n",
       " ('B_win_by_Submission', 0.005017015),\n",
       " ('R_avg_TOTAL_STR_landed', 0.0050139823),\n",
       " ('B_avg_CLINCH_landed', 0.004992374),\n",
       " ('R_total_time_fought(seconds)', 0.004982579),\n",
       " ('R_avg_opp_TD_pct', 0.0049640653),\n",
       " ('R_total_rounds_fought', 0.0048957407),\n",
       " ('R_Stance_Orthodox', 0.004829573),\n",
       " ('B_avg_HEAD_att', 0.0047893226),\n",
       " ('R_win_by_Decision_Unanimous', 0.0047471058),\n",
       " ('B_avg_opp_TOTAL_STR_landed', 0.004718963),\n",
       " ('weight_class_Lightweight', 0.0046318145),\n",
       " ('R_Stance_Southpaw', 0.004426666),\n",
       " ('R_avg_opp_HEAD_att', 0.0042469646),\n",
       " ('R_win_by_Submission', 0.0042034225),\n",
       " ('B_win_by_Decision_Unanimous', 0.0041704043),\n",
       " ('B_avg_DISTANCE_att', 0.0041066124),\n",
       " ('B_current_lose_streak', 0.004093208),\n",
       " ('R_total_title_bouts', 0.004053747),\n",
       " ('R_avg_LEG_att', 0.0039135832),\n",
       " ('title_bout', 0.0037844193),\n",
       " ('R_current_lose_streak', 0.0037181114),\n",
       " ('B_longest_win_streak', 0.0036517242),\n",
       " ('B_Stance_Orthodox', 0.003125668),\n",
       " (\"weight_class_Women's Flyweight\", 0.0030142665),\n",
       " ('weight_class_Bantamweight', 0.0026555818),\n",
       " ('B_win_by_TKO_Doctor_Stoppage', 0.0015790793),\n",
       " ('B_draw', 0.0),\n",
       " ('B_win_by_Decision_Majority', 0.0),\n",
       " ('R_draw', 0.0),\n",
       " ('R_win_by_Decision_Majority', 0.0),\n",
       " ('R_win_by_TKO_Doctor_Stoppage', 0.0),\n",
       " ('weight_class_Catch Weight', 0.0),\n",
       " ('weight_class_Heavyweight', 0.0),\n",
       " ('weight_class_Open Weight', 0.0),\n",
       " (\"weight_class_Women's Bantamweight\", 0.0),\n",
       " (\"weight_class_Women's Featherweight\", 0.0),\n",
       " (\"weight_class_Women's Strawweight\", 0.0),\n",
       " ('B_Stance_Open Stance', 0.0),\n",
       " ('B_Stance_Sideways', 0.0),\n",
       " ('B_Stance_Switch', 0.0),\n",
       " ('R_Stance_Open Stance', 0.0),\n",
       " ('R_Stance_Sideways', 0.0)]"
      ]
     },
     "execution_count": 48,
     "metadata": {},
     "output_type": "execute_result"
    }
   ],
   "source": [
    "feat_imps = {}\n",
    "for i, imp in enumerate(model1.feature_importances_):\n",
    "    feat_imps[X_train.columns[i]] = imp\n",
    "\n",
    "sorted_imp_feats = (sorted(feat_imps.items(), key = lambda x: x[1], reverse=True))\n",
    "sorted_imp_feats"
   ]
  },
  {
   "cell_type": "markdown",
   "metadata": {},
   "source": [
    "### Hyperparameter tuning "
   ]
  },
  {
   "cell_type": "code",
   "execution_count": 50,
   "metadata": {},
   "outputs": [
    {
     "name": "stderr",
     "output_type": "stream",
     "text": [
      "d:\\Python\\lib\\site-packages\\xgboost\\sklearn.py:861: UserWarning: `eval_metric` in `fit` method is deprecated for better compatibility with scikit-learn, use `eval_metric` in constructor or`set_params` instead.\n",
      "  warnings.warn(\n"
     ]
    },
    {
     "name": "stdout",
     "output_type": "stream",
     "text": [
      "\n",
      "Model Report: \n",
      "Accuracy (valid): 0.6740\n",
      "AUC Score (valid): 0.7425\n"
     ]
    },
    {
     "data": {
      "text/plain": [
       "<matplotlib.axes._subplots.AxesSubplot at 0x1db809ace20>"
      ]
     },
     "execution_count": 50,
     "metadata": {},
     "output_type": "execute_result"
    },
    {
     "data": {
      "image/png": "[encoded data removed]",
      "text/plain": [
       "<Figure size 432x288 with 2 Axes>"
      ]
     },
     "metadata": {
      "needs_background": "light"
     },
     "output_type": "display_data"
    }
   ],
   "source": [
    "model3 = XGBClassifier(\n",
    " learning_rate =0.1,\n",
    " n_estimators=1000,\n",
    " max_depth=5,\n",
    " min_child_weight=1,\n",
    " gamma=0,\n",
    " subsample=0.8,\n",
    " colsample_bytree=0.8,\n",
    " objective= 'binary:logistic',\n",
    " nthread=4\n",
    "#  scale_pos_weight=0.5,\n",
    ")\n",
    "\n",
    "y3_valid_preds, y3_test_preds = modelfit(model3, X_train, y_train, X_valid, y_valid)\n",
    "\n",
    "cm_valid = confusion_matrix(y_valid, y3_valid_preds)\n",
    "# cm_test = confusion_matrix(y_test, y3_test_preds)\n",
    "classes = unique_labels(y_valid, y3_valid_preds)\n",
    "\n",
    "plot_confusion(cm_valid, classes)"
   ]
  },
  {
   "cell_type": "code",
   "execution_count": 51,
   "metadata": {
    "scrolled": false
   },
   "outputs": [
    {
     "name": "stderr",
     "output_type": "stream",
     "text": [
      "d:\\Python\\lib\\site-packages\\xgboost\\sklearn.py:861: UserWarning: `eval_metric` in `fit` method is deprecated for better compatibility with scikit-learn, use `eval_metric` in constructor or`set_params` instead.\n",
      "  warnings.warn(\n"
     ]
    },
    {
     "name": "stdout",
     "output_type": "stream",
     "text": [
      "\n",
      "Model Report: \n",
      "Accuracy (valid): 0.6696\n",
      "AUC Score (valid): 0.7392\n"
     ]
    },
    {
     "data": {
      "text/plain": [
       "<matplotlib.axes._subplots.AxesSubplot at 0x1db86f406a0>"
      ]
     },
     "execution_count": 51,
     "metadata": {},
     "output_type": "execute_result"
    },
    {
     "data": {
      "image/png": "[encoded data removed]",
      "text/plain": [
       "<Figure size 432x288 with 2 Axes>"
      ]
     },
     "metadata": {
      "needs_background": "light"
     },
     "output_type": "display_data"
    }
   ],
   "source": [
    "model5 = XGBClassifier(\n",
    " learning_rate =0.1,\n",
    " n_estimators=120,\n",
    " max_depth=3,\n",
    " min_child_weight=1,\n",
    " gamma=0.3,\n",
    " subsample=1,\n",
    " colsample_bytree=1,\n",
    " objective= 'binary:logistic',\n",
    " nthread=4,\n",
    " scale_pos_weight=1,\n",
    ")\n",
    "\n",
    "y5_valid_preds, y5_test_preds = modelfit(model5, X_train, y_train, X_valid, y_valid)\n",
    "\n",
    "cm_valid = confusion_matrix(y_valid, y5_valid_preds)\n",
    "# cm_test = confusion_matrix(y_test, y5_test_preds)\n",
    "classes = unique_labels(y_valid, y5_valid_preds)\n",
    "\n",
    "plot_confusion(cm_valid, classes)"
   ]
  },
  {
   "cell_type": "code",
   "execution_count": 52,
   "metadata": {},
   "outputs": [
    {
     "name": "stdout",
     "output_type": "stream",
     "text": [
      "              precision    recall  f1-score   support\n",
      "\n",
      "           0       0.67      0.67      0.67       351\n",
      "           1       0.65      0.65      0.65       333\n",
      "\n",
      "    accuracy                           0.66       684\n",
      "   macro avg       0.66      0.66      0.66       684\n",
      "weighted avg       0.66      0.66      0.66       684\n",
      "\n"
     ]
    }
   ],
   "source": [
    "print(classification_report(y_valid, y1_valid_preds))"
   ]
  },
  {
   "cell_type": "code",
   "execution_count": 53,
   "metadata": {},
   "outputs": [
    {
     "name": "stdout",
     "output_type": "stream",
     "text": [
      "              precision    recall  f1-score   support\n",
      "\n",
      "           0       0.69      0.66      0.68       351\n",
      "           1       0.66      0.68      0.67       333\n",
      "\n",
      "    accuracy                           0.67       684\n",
      "   macro avg       0.67      0.67      0.67       684\n",
      "weighted avg       0.67      0.67      0.67       684\n",
      "\n"
     ]
    }
   ],
   "source": [
    "print(classification_report(y_valid, y3_valid_preds))"
   ]
  },
  {
   "cell_type": "code",
   "execution_count": 54,
   "metadata": {},
   "outputs": [
    {
     "name": "stdout",
     "output_type": "stream",
     "text": [
      "              precision    recall  f1-score   support\n",
      "\n",
      "           0       0.68      0.67      0.68       351\n",
      "           1       0.66      0.67      0.66       333\n",
      "\n",
      "    accuracy                           0.67       684\n",
      "   macro avg       0.67      0.67      0.67       684\n",
      "weighted avg       0.67      0.67      0.67       684\n",
      "\n"
     ]
    }
   ],
   "source": [
    "print(classification_report(y_valid, y5_valid_preds))"
   ]
  },
  {
   "cell_type": "code",
   "execution_count": 55,
   "metadata": {},
   "outputs": [
    {
     "data": {
      "text/html": [
       "<style>#sk-container-id-1 {color: black;background-color: white;}#sk-container-id-1 pre{padding: 0;}#sk-container-id-1 div.sk-toggleable {background-color: white;}#sk-container-id-1 label.sk-toggleable__label {cursor: pointer;display: block;width: 100%;margin-bottom: 0;padding: 0.3em;box-sizing: border-box;text-align: center;}#sk-container-id-1 label.sk-toggleable__label-arrow:before {content: \"▸\";float: left;margin-right: 0.25em;color: #696969;}#sk-container-id-1 label.sk-toggleable__label-arrow:hover:before {color: black;}#sk-container-id-1 div.sk-estimator:hover label.sk-toggleable__label-arrow:before {color: black;}#sk-container-id-1 div.sk-toggleable__content {max-height: 0;max-width: 0;overflow: hidden;text-align: left;background-color: #f0f8ff;}#sk-container-id-1 div.sk-toggleable__content pre {margin: 0.2em;color: black;border-radius: 0.25em;background-color: #f0f8ff;}#sk-container-id-1 input.sk-toggleable__control:checked~div.sk-toggleable__content {max-height: 200px;max-width: 100%;overflow: auto;}#sk-container-id-1 input.sk-toggleable__control:checked~label.sk-toggleable__label-arrow:before {content: \"▾\";}#sk-container-id-1 div.sk-estimator input.sk-toggleable__control:checked~label.sk-toggleable__label {background-color: #d4ebff;}#sk-container-id-1 div.sk-label input.sk-toggleable__control:checked~label.sk-toggleable__label {background-color: #d4ebff;}#sk-container-id-1 input.sk-hidden--visually {border: 0;clip: rect(1px 1px 1px 1px);clip: rect(1px, 1px, 1px, 1px);height: 1px;margin: -1px;overflow: hidden;padding: 0;position: absolute;width: 1px;}#sk-container-id-1 div.sk-estimator {font-family: monospace;background-color: #f0f8ff;border: 1px dotted black;border-radius: 0.25em;box-sizing: border-box;margin-bottom: 0.5em;}#sk-container-id-1 div.sk-estimator:hover {background-color: #d4ebff;}#sk-container-id-1 div.sk-parallel-item::after {content: \"\";width: 100%;border-bottom: 1px solid gray;flex-grow: 1;}#sk-container-id-1 div.sk-label:hover label.sk-toggleable__label {background-color: #d4ebff;}#sk-container-id-1 div.sk-serial::before {content: \"\";position: absolute;border-left: 1px solid gray;box-sizing: border-box;top: 0;bottom: 0;left: 50%;z-index: 0;}#sk-container-id-1 div.sk-serial {display: flex;flex-direction: column;align-items: center;background-color: white;padding-right: 0.2em;padding-left: 0.2em;position: relative;}#sk-container-id-1 div.sk-item {position: relative;z-index: 1;}#sk-container-id-1 div.sk-parallel {display: flex;align-items: stretch;justify-content: center;background-color: white;position: relative;}#sk-container-id-1 div.sk-item::before, #sk-container-id-1 div.sk-parallel-item::before {content: \"\";position: absolute;border-left: 1px solid gray;box-sizing: border-box;top: 0;bottom: 0;left: 50%;z-index: -1;}#sk-container-id-1 div.sk-parallel-item {display: flex;flex-direction: column;z-index: 1;position: relative;background-color: white;}#sk-container-id-1 div.sk-parallel-item:first-child::after {align-self: flex-end;width: 50%;}#sk-container-id-1 div.sk-parallel-item:last-child::after {align-self: flex-start;width: 50%;}#sk-container-id-1 div.sk-parallel-item:only-child::after {width: 0;}#sk-container-id-1 div.sk-dashed-wrapped {border: 1px dashed gray;margin: 0 0.4em 0.5em 0.4em;box-sizing: border-box;padding-bottom: 0.4em;background-color: white;}#sk-container-id-1 div.sk-label label {font-family: monospace;font-weight: bold;display: inline-block;line-height: 1.2em;}#sk-container-id-1 div.sk-label-container {text-align: center;}#sk-container-id-1 div.sk-container {/* jupyter's `normalize.less` sets `[hidden] { display: none; }` but bootstrap.min.css set `[hidden] { display: none !important; }` so we also need the `!important` here to be able to override the default hidden behavior on the sphinx rendered scikit-learn.org. See: https://github.com/scikit-learn/scikit-learn/issues/21755 */display: inline-block !important;position: relative;}#sk-container-id-1 div.sk-text-repr-fallback {display: none;}</style><div id=\"sk-container-id-1\" class=\"sk-top-container\"><div class=\"sk-text-repr-fallback\"><pre>XGBClassifier(base_score=0.5, booster=&#x27;gbtree&#x27;, callbacks=None,\n",
       "              colsample_bylevel=1, colsample_bynode=1, colsample_bytree=0.8,\n",
       "              early_stopping_rounds=None, enable_categorical=False,\n",
       "              eval_metric=None, feature_types=None, gamma=0, gpu_id=-1,\n",
       "              grow_policy=&#x27;depthwise&#x27;, importance_type=None,\n",
       "              interaction_constraints=&#x27;&#x27;, learning_rate=0.1, max_bin=256,\n",
       "              max_cat_threshold=64, max_cat_to_onehot=4, max_delta_step=0,\n",
       "              max_depth=5, max_leaves=0, min_child_weight=1, missing=nan,\n",
       "              monotone_constraints=&#x27;()&#x27;, n_estimators=1000, n_jobs=4, nthread=4,\n",
       "              num_parallel_tree=1, predictor=&#x27;auto&#x27;, ...)</pre><b>In a Jupyter environment, please rerun this cell to show the HTML representation or trust the notebook. <br />On GitHub, the HTML representation is unable to render, please try loading this page with nbviewer.org.</b></div><div class=\"sk-container\" hidden><div class=\"sk-item\"><div class=\"sk-estimator sk-toggleable\"><input class=\"sk-toggleable__control sk-hidden--visually\" id=\"sk-estimator-id-1\" type=\"checkbox\" checked><label for=\"sk-estimator-id-1\" class=\"sk-toggleable__label sk-toggleable__label-arrow\">XGBClassifier</label><div class=\"sk-toggleable__content\"><pre>XGBClassifier(base_score=0.5, booster=&#x27;gbtree&#x27;, callbacks=None,\n",
       "              colsample_bylevel=1, colsample_bynode=1, colsample_bytree=0.8,\n",
       "              early_stopping_rounds=None, enable_categorical=False,\n",
       "              eval_metric=None, feature_types=None, gamma=0, gpu_id=-1,\n",
       "              grow_policy=&#x27;depthwise&#x27;, importance_type=None,\n",
       "              interaction_constraints=&#x27;&#x27;, learning_rate=0.1, max_bin=256,\n",
       "              max_cat_threshold=64, max_cat_to_onehot=4, max_delta_step=0,\n",
       "              max_depth=5, max_leaves=0, min_child_weight=1, missing=nan,\n",
       "              monotone_constraints=&#x27;()&#x27;, n_estimators=1000, n_jobs=4, nthread=4,\n",
       "              num_parallel_tree=1, predictor=&#x27;auto&#x27;, ...)</pre></div></div></div></div></div>"
      ],
      "text/plain": [
       "XGBClassifier(base_score=0.5, booster='gbtree', callbacks=None,\n",
       "              colsample_bylevel=1, colsample_bynode=1, colsample_bytree=0.8,\n",
       "              early_stopping_rounds=None, enable_categorical=False,\n",
       "              eval_metric=None, feature_types=None, gamma=0, gpu_id=-1,\n",
       "              grow_policy='depthwise', importance_type=None,\n",
       "              interaction_constraints='', learning_rate=0.1, max_bin=256,\n",
       "              max_cat_threshold=64, max_cat_to_onehot=4, max_delta_step=0,\n",
       "              max_depth=5, max_leaves=0, min_child_weight=1, missing=nan,\n",
       "              monotone_constraints='()', n_estimators=1000, n_jobs=4, nthread=4,\n",
       "              num_parallel_tree=1, predictor='auto', ...)"
      ]
     },
     "execution_count": 55,
     "metadata": {},
     "output_type": "execute_result"
    }
   ],
   "source": [
    "model = model3\n",
    "\n",
    "model.fit(np.array(X), np.array(label_encoded_y))"
   ]
  },
  {
   "cell_type": "code",
   "execution_count": 56,
   "metadata": {},
   "outputs": [],
   "source": [
    "with open('../models/model.sav', 'wb') as f:\n",
    "    pickle.dump(model, f)"
   ]
  },
  {
   "cell_type": "code",
   "execution_count": 57,
   "metadata": {},
   "outputs": [],
   "source": [
    "with open('../models/model.sav', 'rb') as f:\n",
    "    mdl = pickle.load(f)"
   ]
  },
  {
   "cell_type": "code",
   "execution_count": 58,
   "metadata": {},
   "outputs": [
    {
     "data": {
      "text/plain": [
       "array([0, 1, 0, 1, 0, 0, 0, 1, 1, 0, 0, 1, 1, 1, 0, 1, 1, 0, 0, 1, 0, 1,\n",
       "       0, 1, 1, 1, 0, 1, 1, 0, 0, 0, 0, 0, 1, 1, 0, 1, 0, 0])"
      ]
     },
     "execution_count": 58,
     "metadata": {},
     "output_type": "execute_result"
    }
   ],
   "source": [
    "mdl.predict(np.array(X[:40]))"
   ]
  },
  {
   "cell_type": "code",
   "execution_count": null,
   "metadata": {},
   "outputs": [],
   "source": []
  }
 ],
 "metadata": {
  "kernelspec": {
   "display_name": "Python 3",
   "language": "python",
   "name": "python3"
  },
  "language_info": {
   "codemirror_mode": {
    "name": "ipython",
    "version": 3
   },
   "file_extension": ".py",
   "mimetype": "text/x-python",
   "name": "python",
   "nbconvert_exporter": "python",
   "pygments_lexer": "ipython3",
   "version": "3.8.3"
  },
  "vscode": {
   "interpreter": {
    "hash": "2469a70536e4d2335a2ea8907942d0699c37342a371ac185bdb5b0aa6f073890"
   }
  }
 },
 "nbformat": 4,
 "nbformat_minor": 2
}
