{
 "cells": [
  {
   "cell_type": "code",
   "execution_count": 1,
   "metadata": {},
   "outputs": [
    {
     "name": "stderr",
     "output_type": "stream",
     "text": [
      "d:\\dev\\UFC-Predictions\\.venv\\lib\\site-packages\\xgboost\\compat.py:93: FutureWarning: pandas.Int64Index is deprecated and will be removed from pandas in a future version. Use pandas.Index with the appropriate dtype instead.\n",
      "  from pandas import MultiIndex, Int64Index\n"
     ]
    }
   ],
   "source": [
    "import pandas as pd\n",
    "import numpy as np\n",
    "import matplotlib.pyplot as plt\n",
    "import pickle\n",
    "from xgboost import XGBClassifier\n",
    "from sklearn.preprocessing import LabelEncoder\n",
    "import xgboost as xgb\n",
    "from sklearn.model_selection import train_test_split\n",
    "from sklearn.preprocessing import StandardScaler\n",
    "from sklearn.metrics import accuracy_score, classification_report,confusion_matrix, roc_auc_score\n",
    "from sklearn.utils.multiclass import unique_labels\n",
    "from sklearn.model_selection import GridSearchCV, RandomizedSearchCV\n",
    "import seaborn as sns\n",
    "\n",
    "%matplotlib inline\n"
   ]
  },
  {
   "cell_type": "code",
   "execution_count": 2,
   "metadata": {},
   "outputs": [],
   "source": [
    "df = pd.read_csv('../data/preprocessed_data.csv')"
   ]
  },
  {
   "cell_type": "code",
   "execution_count": 3,
   "metadata": {},
   "outputs": [
    {
     "data": {
      "text/html": [
       "<div>\n",
       "<style scoped>\n",
       "    .dataframe tbody tr th:only-of-type {\n",
       "        vertical-align: middle;\n",
       "    }\n",
       "\n",
       "    .dataframe tbody tr th {\n",
       "        vertical-align: top;\n",
       "    }\n",
       "\n",
       "    .dataframe thead th {\n",
       "        text-align: right;\n",
       "    }\n",
       "</style>\n",
       "<table border=\"1\" class=\"dataframe\">\n",
       "  <thead>\n",
       "    <tr style=\"text-align: right;\">\n",
       "      <th></th>\n",
       "      <th>Winner</th>\n",
       "      <th>title_bout</th>\n",
       "      <th>no_of_rounds</th>\n",
       "      <th>B_avg_KD</th>\n",
       "      <th>B_avg_opp_KD</th>\n",
       "      <th>B_avg_SIG_STR_pct</th>\n",
       "      <th>B_avg_opp_SIG_STR_pct</th>\n",
       "      <th>B_avg_TD_pct</th>\n",
       "      <th>B_avg_opp_TD_pct</th>\n",
       "      <th>B_avg_SUB_ATT</th>\n",
       "      <th>...</th>\n",
       "      <th>B_Stance_Open Stance</th>\n",
       "      <th>B_Stance_Orthodox</th>\n",
       "      <th>B_Stance_Sideways</th>\n",
       "      <th>B_Stance_Southpaw</th>\n",
       "      <th>B_Stance_Switch</th>\n",
       "      <th>R_Stance_Open Stance</th>\n",
       "      <th>R_Stance_Orthodox</th>\n",
       "      <th>R_Stance_Sideways</th>\n",
       "      <th>R_Stance_Southpaw</th>\n",
       "      <th>R_Stance_Switch</th>\n",
       "    </tr>\n",
       "  </thead>\n",
       "  <tbody>\n",
       "    <tr>\n",
       "      <th>0</th>\n",
       "      <td>Red</td>\n",
       "      <td>False</td>\n",
       "      <td>3</td>\n",
       "      <td>0.570801</td>\n",
       "      <td>0.3125</td>\n",
       "      <td>0.461431</td>\n",
       "      <td>0.504418</td>\n",
       "      <td>0.035756</td>\n",
       "      <td>0.143079</td>\n",
       "      <td>0.578613</td>\n",
       "      <td>...</td>\n",
       "      <td>0</td>\n",
       "      <td>1</td>\n",
       "      <td>0</td>\n",
       "      <td>0</td>\n",
       "      <td>0</td>\n",
       "      <td>0</td>\n",
       "      <td>0</td>\n",
       "      <td>0</td>\n",
       "      <td>0</td>\n",
       "      <td>1</td>\n",
       "    </tr>\n",
       "    <tr>\n",
       "      <th>1</th>\n",
       "      <td>Blue</td>\n",
       "      <td>False</td>\n",
       "      <td>3</td>\n",
       "      <td>0.000000</td>\n",
       "      <td>0.7500</td>\n",
       "      <td>0.411250</td>\n",
       "      <td>0.467500</td>\n",
       "      <td>0.000000</td>\n",
       "      <td>0.000000</td>\n",
       "      <td>0.000000</td>\n",
       "      <td>...</td>\n",
       "      <td>0</td>\n",
       "      <td>0</td>\n",
       "      <td>0</td>\n",
       "      <td>0</td>\n",
       "      <td>1</td>\n",
       "      <td>0</td>\n",
       "      <td>1</td>\n",
       "      <td>0</td>\n",
       "      <td>0</td>\n",
       "      <td>0</td>\n",
       "    </tr>\n",
       "    <tr>\n",
       "      <th>2</th>\n",
       "      <td>Blue</td>\n",
       "      <td>False</td>\n",
       "      <td>3</td>\n",
       "      <td>0.000000</td>\n",
       "      <td>0.0000</td>\n",
       "      <td>0.560000</td>\n",
       "      <td>0.550000</td>\n",
       "      <td>0.280000</td>\n",
       "      <td>0.000000</td>\n",
       "      <td>1.000000</td>\n",
       "      <td>...</td>\n",
       "      <td>0</td>\n",
       "      <td>1</td>\n",
       "      <td>0</td>\n",
       "      <td>0</td>\n",
       "      <td>0</td>\n",
       "      <td>0</td>\n",
       "      <td>0</td>\n",
       "      <td>0</td>\n",
       "      <td>0</td>\n",
       "      <td>1</td>\n",
       "    </tr>\n",
       "    <tr>\n",
       "      <th>3</th>\n",
       "      <td>Red</td>\n",
       "      <td>False</td>\n",
       "      <td>3</td>\n",
       "      <td>0.000000</td>\n",
       "      <td>0.1250</td>\n",
       "      <td>0.220625</td>\n",
       "      <td>0.515000</td>\n",
       "      <td>0.108750</td>\n",
       "      <td>0.250000</td>\n",
       "      <td>0.062500</td>\n",
       "      <td>...</td>\n",
       "      <td>0</td>\n",
       "      <td>1</td>\n",
       "      <td>0</td>\n",
       "      <td>0</td>\n",
       "      <td>0</td>\n",
       "      <td>0</td>\n",
       "      <td>0</td>\n",
       "      <td>0</td>\n",
       "      <td>1</td>\n",
       "      <td>0</td>\n",
       "    </tr>\n",
       "    <tr>\n",
       "      <th>4</th>\n",
       "      <td>Red</td>\n",
       "      <td>False</td>\n",
       "      <td>3</td>\n",
       "      <td>0.500000</td>\n",
       "      <td>0.0000</td>\n",
       "      <td>0.590000</td>\n",
       "      <td>0.465000</td>\n",
       "      <td>0.000000</td>\n",
       "      <td>0.500000</td>\n",
       "      <td>0.000000</td>\n",
       "      <td>...</td>\n",
       "      <td>0</td>\n",
       "      <td>0</td>\n",
       "      <td>0</td>\n",
       "      <td>1</td>\n",
       "      <td>0</td>\n",
       "      <td>0</td>\n",
       "      <td>1</td>\n",
       "      <td>0</td>\n",
       "      <td>0</td>\n",
       "      <td>0</td>\n",
       "    </tr>\n",
       "  </tbody>\n",
       "</table>\n",
       "<p>5 rows × 161 columns</p>\n",
       "</div>"
      ],
      "text/plain": [
       "  Winner  title_bout  no_of_rounds  B_avg_KD  B_avg_opp_KD  B_avg_SIG_STR_pct  \\\n",
       "0    Red       False             3  0.570801        0.3125           0.461431   \n",
       "1   Blue       False             3  0.000000        0.7500           0.411250   \n",
       "2   Blue       False             3  0.000000        0.0000           0.560000   \n",
       "3    Red       False             3  0.000000        0.1250           0.220625   \n",
       "4    Red       False             3  0.500000        0.0000           0.590000   \n",
       "\n",
       "   B_avg_opp_SIG_STR_pct  B_avg_TD_pct  B_avg_opp_TD_pct  B_avg_SUB_ATT  ...  \\\n",
       "0               0.504418      0.035756          0.143079       0.578613  ...   \n",
       "1               0.467500      0.000000          0.000000       0.000000  ...   \n",
       "2               0.550000      0.280000          0.000000       1.000000  ...   \n",
       "3               0.515000      0.108750          0.250000       0.062500  ...   \n",
       "4               0.465000      0.000000          0.500000       0.000000  ...   \n",
       "\n",
       "   B_Stance_Open Stance  B_Stance_Orthodox  B_Stance_Sideways  \\\n",
       "0                     0                  1                  0   \n",
       "1                     0                  0                  0   \n",
       "2                     0                  1                  0   \n",
       "3                     0                  1                  0   \n",
       "4                     0                  0                  0   \n",
       "\n",
       "   B_Stance_Southpaw  B_Stance_Switch  R_Stance_Open Stance  \\\n",
       "0                  0                0                     0   \n",
       "1                  0                1                     0   \n",
       "2                  0                0                     0   \n",
       "3                  0                0                     0   \n",
       "4                  1                0                     0   \n",
       "\n",
       "   R_Stance_Orthodox  R_Stance_Sideways  R_Stance_Southpaw  R_Stance_Switch  \n",
       "0                  0                  0                  0                1  \n",
       "1                  1                  0                  0                0  \n",
       "2                  0                  0                  0                1  \n",
       "3                  0                  0                  1                0  \n",
       "4                  1                  0                  0                0  \n",
       "\n",
       "[5 rows x 161 columns]"
      ]
     },
     "execution_count": 3,
     "metadata": {},
     "output_type": "execute_result"
    }
   ],
   "source": [
    "df.head()"
   ]
  },
  {
   "cell_type": "markdown",
   "metadata": {},
   "source": [
    "### Normalizing data"
   ]
  },
  {
   "cell_type": "code",
   "execution_count": 4,
   "metadata": {},
   "outputs": [],
   "source": [
    "df_num = df.select_dtypes(include=[float, int])"
   ]
  },
  {
   "cell_type": "code",
   "execution_count": 5,
   "metadata": {},
   "outputs": [],
   "source": [
    "scaler = StandardScaler()\n",
    "\n",
    "df[list(df_num.columns)] = scaler.fit_transform(df[list(df_num.columns)])"
   ]
  },
  {
   "cell_type": "markdown",
   "metadata": {},
   "source": [
    "### Splitting into train, test"
   ]
  },
  {
   "cell_type": "code",
   "execution_count": 6,
   "metadata": {},
   "outputs": [],
   "source": [
    "y = df['Winner']\n",
    "label_encoder = LabelEncoder()\n",
    "label_encoder = label_encoder.fit(y)\n",
    "label_encoded_y = label_encoder.transform(y)\n",
    "\n",
    "X = df.drop(columns = 'Winner')\n",
    "\n",
    "X_train, X_test, y_train, y_test = train_test_split(X, label_encoded_y, test_size=0.1, random_state=41)"
   ]
  },
  {
   "cell_type": "markdown",
   "metadata": {},
   "source": [
    "### Fitting baseline Xgboost"
   ]
  },
  {
   "cell_type": "code",
   "execution_count": 7,
   "metadata": {},
   "outputs": [],
   "source": [
    "def plot_confusion(cm):\n",
    "    ax = sns.heatmap(cm, annot=True, cmap='Blues', fmt='g')\n",
    "    ax.set_title('Seaborn Confusion Matrix with labels\\n\\n');\n",
    "    ax.set_xlabel('\\nPredicted Values')\n",
    "    ax.set_ylabel('Actual Values ');\n",
    "\n",
    "    ## Ticket labels - List must be in alphabetical order\n",
    "    ax.xaxis.set_ticklabels(['False','True'])\n",
    "    ax.yaxis.set_ticklabels(['False','True'])\n",
    "    ax.set_ylim([0,2])\n",
    "\n",
    "    ## Display the visualization of the Confusion Matrix.\n",
    "    ax.invert_yaxis()\n",
    "    plt.show()\n",
    "    "
   ]
  },
  {
   "cell_type": "code",
   "execution_count": 8,
   "metadata": {},
   "outputs": [],
   "source": [
    "def modelfit(alg, X_train, y_train, X_test, y_test, useTrainCV=True, cv_folds=5, early_stopping_rounds=50):\n",
    "    \n",
    "    if useTrainCV:\n",
    "        xgb_param = alg.get_xgb_params()\n",
    "        xgtrain = xgb.DMatrix(X_train, label=y_train)\n",
    "        cvresult = xgb.cv(xgb_param, xgtrain, num_boost_round=alg.get_params()['n_estimators'], nfold=cv_folds,\n",
    "            metrics='auc', early_stopping_rounds=early_stopping_rounds)\n",
    "        alg.set_params(n_estimators=cvresult.shape[0])\n",
    "        print(f\"Best number of estimators = {cvresult.shape[0]}\")\n",
    "    \n",
    "    #Fit the algorithm on the data\n",
    "    alg.fit(np.array(X_train), np.array(y_train), eval_metric='auc')\n",
    "    \n",
    "    \n",
    "    #Predict train set:\n",
    "    dtrain_predictions = alg.predict(np.array(X_train))\n",
    "    dtrain_predprob = alg.predict_proba(np.array(X_train))[:,1]\n",
    "        \n",
    "    #Predict test set:\n",
    "    dtest_predictions = alg.predict(np.array(X_test))\n",
    "    dtest_predprob = alg.predict_proba(np.array(X_test))[:,1]\n",
    "        \n",
    "    #Print model report:\n",
    "    print(\"\\nModel Report: \")\n",
    "    print(f\"Accuracy (Test): {accuracy_score(y_test, dtest_predictions):.4f}\")\n",
    "#     print(f\"AUC Score (Train): {roc_auc_score(y_train, dtrain_predprob)}\")\n",
    "    print(f\"AUC Score (Test): {roc_auc_score(y_test, dtest_predprob, multi_class='ovo',):.4f}\")\n",
    "    \n",
    "    \n",
    "    return dtest_predictions"
   ]
  },
  {
   "cell_type": "code",
   "execution_count": 9,
   "metadata": {},
   "outputs": [
    {
     "name": "stdout",
     "output_type": "stream",
     "text": [
      "Best number of estimators = 14\n",
      "\n",
      "Model Report: \n",
      "Accuracy (Test): 0.6871\n",
      "AUC Score (Test): 0.6973\n"
     ]
    },
    {
     "data": {
      "image/png": "[encoded data removed]",
      "text/plain": [
       "<Figure size 640x480 with 2 Axes>"
      ]
     },
     "metadata": {},
     "output_type": "display_data"
    }
   ],
   "source": [
    "model1 = XGBClassifier(random_state=43, n_jobs=-1)\n",
    "\n",
    "y1_preds = modelfit(model1, X_train, y_train, X_test, y_test)\n",
    "\n",
    "cm = confusion_matrix(y_test, y1_preds)\n",
    "\n",
    "plot_confusion(cm)"
   ]
  },
  {
   "cell_type": "code",
   "execution_count": 10,
   "metadata": {},
   "outputs": [
    {
     "data": {
      "text/plain": [
       "[('R_age', 0.02163271),\n",
       " ('no_of_rounds', 0.021211078),\n",
       " ('R_avg_opp_DISTANCE_landed', 0.020303922),\n",
       " ('B_avg_SIG_STR_att', 0.019275827),\n",
       " ('B_avg_DISTANCE_landed', 0.01741147),\n",
       " ('R_Weight_lbs', 0.014139721),\n",
       " ('R_avg_opp_SIG_STR_landed', 0.013652795),\n",
       " ('B_total_title_bouts', 0.0136253005),\n",
       " ('B_age', 0.01362219),\n",
       " ('B_Reach_cms', 0.012801797),\n",
       " ('R_losses', 0.012264289),\n",
       " ('R_win_by_Decision_Split', 0.011505036),\n",
       " ('R_avg_opp_HEAD_landed', 0.011214152),\n",
       " ('B_avg_opp_TD_landed', 0.0104633225),\n",
       " ('R_avg_opp_SIG_STR_pct', 0.010321519),\n",
       " ('B_avg_opp_DISTANCE_landed', 0.010275525),\n",
       " ('B_avg_opp_LEG_landed', 0.010046323),\n",
       " ('R_win_by_Submission', 0.009937628),\n",
       " ('B_avg_HEAD_att', 0.009922623),\n",
       " ('B_avg_DISTANCE_att', 0.009879798),\n",
       " ('R_avg_TOTAL_STR_landed', 0.009808419),\n",
       " ('R_avg_SIG_STR_landed', 0.009798393),\n",
       " ('B_avg_opp_SUB_ATT', 0.009734296),\n",
       " ('B_avg_opp_TOTAL_STR_att', 0.009715623),\n",
       " ('B_avg_opp_DISTANCE_att', 0.0095982775),\n",
       " ('R_current_lose_streak', 0.0093597565),\n",
       " ('B_wins', 0.009332846),\n",
       " ('B_avg_opp_GROUND_att', 0.009303543),\n",
       " ('R_avg_opp_CLINCH_att', 0.009177267),\n",
       " ('B_avg_opp_LEG_att', 0.009041854),\n",
       " ('R_avg_opp_BODY_landed', 0.008951283),\n",
       " ('B_avg_opp_BODY_landed', 0.0089364955),\n",
       " ('B_avg_LEG_landed', 0.008909431),\n",
       " ('B_avg_opp_CLINCH_landed', 0.008843192),\n",
       " ('R_avg_SUB_ATT', 0.008745614),\n",
       " ('R_avg_TD_pct', 0.008677342),\n",
       " ('B_avg_BODY_att', 0.008661629),\n",
       " ('R_avg_opp_TD_att', 0.008661055),\n",
       " ('B_total_time_fought(seconds)', 0.008660497),\n",
       " ('R_avg_SIG_STR_att', 0.008594605),\n",
       " ('B_avg_SIG_STR_pct', 0.008552828),\n",
       " ('B_avg_CLINCH_att', 0.00849863),\n",
       " ('R_avg_opp_GROUND_att', 0.008463267),\n",
       " ('B_avg_opp_TOTAL_STR_landed', 0.008461766),\n",
       " ('B_avg_SIG_STR_landed', 0.008368915),\n",
       " ('R_avg_LEG_landed', 0.008312973),\n",
       " ('B_avg_TD_att', 0.008293175),\n",
       " ('B_Weight_lbs', 0.008215264),\n",
       " ('B_avg_opp_CLINCH_att', 0.008174234),\n",
       " ('B_Stance_Southpaw', 0.008156057),\n",
       " ('B_losses', 0.008109817),\n",
       " ('B_avg_TOTAL_STR_att', 0.008105492),\n",
       " ('R_Height_cms', 0.008038529),\n",
       " ('R_avg_TD_landed', 0.008023929),\n",
       " ('B_avg_SUB_ATT', 0.007889928),\n",
       " ('R_Reach_cms', 0.007809284),\n",
       " ('R_avg_opp_KD', 0.007793235),\n",
       " ('R_avg_opp_TOTAL_STR_att', 0.0077847983),\n",
       " ('B_avg_opp_KD', 0.007766131),\n",
       " ('R_avg_BODY_att', 0.007668781),\n",
       " ('R_avg_SIG_STR_pct', 0.0076652733),\n",
       " ('R_longest_win_streak', 0.007611449),\n",
       " ('R_avg_CLINCH_att', 0.007593539),\n",
       " ('B_avg_KD', 0.0074135177),\n",
       " ('R_avg_BODY_landed', 0.0073080393),\n",
       " ('R_avg_opp_REV', 0.0072566792),\n",
       " ('B_avg_opp_HEAD_landed', 0.0072530364),\n",
       " ('B_avg_opp_TD_att', 0.0072138747),\n",
       " ('weight_class_Flyweight', 0.0071133743),\n",
       " ('B_avg_opp_TD_pct', 0.0069847903),\n",
       " ('B_avg_opp_REV', 0.0069786394),\n",
       " ('R_avg_opp_GROUND_landed', 0.006896405),\n",
       " ('B_avg_HEAD_landed', 0.0068560685),\n",
       " ('R_avg_GROUND_landed', 0.0068510314),\n",
       " ('B_avg_LEG_att', 0.0068482487),\n",
       " ('B_avg_opp_SIG_STR_landed', 0.0067100776),\n",
       " ('R_avg_opp_CTRL_time(seconds)', 0.0066501913),\n",
       " ('B_avg_opp_GROUND_landed', 0.0066309352),\n",
       " ('R_avg_HEAD_landed', 0.006599959),\n",
       " ('R_avg_HEAD_att', 0.0065170093),\n",
       " ('R_avg_REV', 0.0064293803),\n",
       " ('B_total_rounds_fought', 0.0063613737),\n",
       " ('R_avg_opp_SIG_STR_att', 0.0063090674),\n",
       " ('B_avg_TD_landed', 0.006303202),\n",
       " ('R_avg_GROUND_att', 0.0062778713),\n",
       " ('B_current_win_streak', 0.0062657176),\n",
       " ('B_avg_opp_BODY_att', 0.0062245894),\n",
       " ('B_avg_CLINCH_landed', 0.0061429413),\n",
       " ('R_avg_opp_LEG_att', 0.0060692946),\n",
       " ('R_avg_KD', 0.006044097),\n",
       " ('R_avg_opp_BODY_att', 0.006040434),\n",
       " ('R_avg_opp_TD_landed', 0.0060349796),\n",
       " ('B_win_by_Submission', 0.0059713833),\n",
       " ('B_avg_TOTAL_STR_landed', 0.0059496104),\n",
       " ('B_avg_opp_CTRL_time(seconds)', 0.005798703),\n",
       " ('R_avg_opp_TOTAL_STR_landed', 0.005751147),\n",
       " ('R_avg_TD_att', 0.0057231365),\n",
       " ('B_avg_TD_pct', 0.0057191057),\n",
       " ('B_avg_opp_SIG_STR_pct', 0.005684286),\n",
       " ('R_avg_DISTANCE_landed', 0.0056370413),\n",
       " ('R_avg_opp_DISTANCE_att', 0.005608486),\n",
       " ('R_avg_opp_HEAD_att', 0.005599029),\n",
       " ('R_avg_TOTAL_STR_att', 0.0055459803),\n",
       " ('B_avg_GROUND_landed', 0.005530045),\n",
       " ('R_total_time_fought(seconds)', 0.005493715),\n",
       " ('R_total_title_bouts', 0.005367566),\n",
       " ('R_avg_CTRL_time(seconds)', 0.0053414926),\n",
       " ('B_avg_REV', 0.005226492),\n",
       " ('R_avg_opp_CLINCH_landed', 0.005202585),\n",
       " ('R_current_win_streak', 0.0050501195),\n",
       " ('B_win_by_Decision_Unanimous', 0.005024657),\n",
       " ('B_avg_GROUND_att', 0.0049414216),\n",
       " ('R_avg_opp_TD_pct', 0.0049068043),\n",
       " ('B_avg_CTRL_time(seconds)', 0.004905531),\n",
       " ('B_avg_BODY_landed', 0.004652537),\n",
       " ('weight_class_Bantamweight', 0.0045369547),\n",
       " ('R_total_rounds_fought', 0.004500594),\n",
       " ('R_avg_CLINCH_landed', 0.004229184),\n",
       " ('R_avg_opp_SUB_ATT', 0.003647406),\n",
       " ('R_wins', 0.0036414277),\n",
       " ('R_avg_LEG_att', 0.00358882),\n",
       " ('B_avg_opp_SIG_STR_att', 0.003274949),\n",
       " ('B_Height_cms', 0.003027596),\n",
       " ('R_avg_DISTANCE_att', 0.0027260976),\n",
       " ('R_win_by_Decision_Unanimous', 0.0026611025),\n",
       " ('R_avg_opp_LEG_landed', 0.0018637611),\n",
       " ('weight_class_Middleweight', 0.0016137118),\n",
       " ('weight_class_Welterweight', 0.0012460017),\n",
       " ('B_avg_opp_HEAD_att', 0.0008509588),\n",
       " ('title_bout', 0.0),\n",
       " ('B_current_lose_streak', 0.0),\n",
       " ('B_longest_win_streak', 0.0),\n",
       " ('B_draw', 0.0),\n",
       " ('B_win_by_Decision_Majority', 0.0),\n",
       " ('B_win_by_Decision_Split', 0.0),\n",
       " ('B_win_by_KO/TKO', 0.0),\n",
       " ('B_win_by_TKO_Doctor_Stoppage', 0.0),\n",
       " ('R_draw', 0.0),\n",
       " ('R_win_by_Decision_Majority', 0.0),\n",
       " ('R_win_by_KO/TKO', 0.0),\n",
       " ('R_win_by_TKO_Doctor_Stoppage', 0.0),\n",
       " ('weight_class_Catch Weight', 0.0),\n",
       " ('weight_class_Featherweight', 0.0),\n",
       " ('weight_class_Heavyweight', 0.0),\n",
       " ('weight_class_Light Heavyweight', 0.0),\n",
       " ('weight_class_Lightweight', 0.0),\n",
       " ('weight_class_Open Weight', 0.0),\n",
       " (\"weight_class_Women's Bantamweight\", 0.0),\n",
       " (\"weight_class_Women's Featherweight\", 0.0),\n",
       " (\"weight_class_Women's Flyweight\", 0.0),\n",
       " (\"weight_class_Women's Strawweight\", 0.0),\n",
       " ('B_Stance_Open Stance', 0.0),\n",
       " ('B_Stance_Orthodox', 0.0),\n",
       " ('B_Stance_Sideways', 0.0),\n",
       " ('B_Stance_Switch', 0.0),\n",
       " ('R_Stance_Open Stance', 0.0),\n",
       " ('R_Stance_Orthodox', 0.0),\n",
       " ('R_Stance_Sideways', 0.0),\n",
       " ('R_Stance_Southpaw', 0.0),\n",
       " ('R_Stance_Switch', 0.0)]"
      ]
     },
     "execution_count": 10,
     "metadata": {},
     "output_type": "execute_result"
    }
   ],
   "source": [
    "feat_imps = {}\n",
    "for i, imp in enumerate(model1.feature_importances_):\n",
    "    feat_imps[X_train.columns[i]] = imp\n",
    "\n",
    "sorted_imp_feats = (sorted(feat_imps.items(), key = lambda x: x[1], reverse=True))\n",
    "sorted_imp_feats"
   ]
  },
  {
   "cell_type": "markdown",
   "metadata": {},
   "source": [
    "### Since dataset is imbalanced let's try setting scale_pos_weight to see if we get an improvement"
   ]
  },
  {
   "cell_type": "code",
   "execution_count": 11,
   "metadata": {},
   "outputs": [
    {
     "name": "stdout",
     "output_type": "stream",
     "text": [
      "Best number of estimators = 100\n",
      "\n",
      "Model Report: \n",
      "Accuracy (Test): 0.6681\n",
      "AUC Score (Test): 0.6821\n"
     ]
    },
    {
     "data": {
      "image/png": "[encoded data removed]",
      "text/plain": [
       "<Figure size 640x480 with 2 Axes>"
      ]
     },
     "metadata": {},
     "output_type": "display_data"
    }
   ],
   "source": [
    "model2 = XGBClassifier(random_state=43, n_jobs=-1, scale_pos_weight=0.7)\n",
    "\n",
    "y2_preds = modelfit(model2, X_train, y_train, X_test, y_test)\n",
    "\n",
    "cm = confusion_matrix(y_test, y2_preds)\n",
    "\n",
    "plot_confusion(cm)"
   ]
  },
  {
   "cell_type": "markdown",
   "metadata": {},
   "source": [
    "### Hyperparameter tuning "
   ]
  },
  {
   "cell_type": "code",
   "execution_count": 12,
   "metadata": {},
   "outputs": [
    {
     "name": "stdout",
     "output_type": "stream",
     "text": [
      "Best number of estimators = 52\n",
      "\n",
      "Model Report: \n",
      "Accuracy (Test): 0.6696\n",
      "AUC Score (Test): 0.7051\n"
     ]
    },
    {
     "data": {
      "image/png": "[encoded data removed]",
      "text/plain": [
       "<Figure size 640x480 with 2 Axes>"
      ]
     },
     "metadata": {},
     "output_type": "display_data"
    }
   ],
   "source": [
    "model3 = XGBClassifier(\n",
    " learning_rate =0.1,\n",
    " n_estimators=1000,\n",
    " max_depth=5,\n",
    " min_child_weight=1,\n",
    " gamma=0,\n",
    " subsample=0.8,\n",
    " colsample_bytree=0.8,\n",
    " objective= 'binary:logistic',\n",
    " nthread=4,\n",
    " scale_pos_weight=0.75,\n",
    ")\n",
    "\n",
    "y3_preds = modelfit(model3, X_train, y_train, X_test, y_test)\n",
    "\n",
    "cm = confusion_matrix(y_test, y3_preds)\n",
    "\n",
    "plot_confusion(cm)"
   ]
  },
  {
   "cell_type": "markdown",
   "metadata": {},
   "source": [
    "### Oversampling"
   ]
  },
  {
   "cell_type": "code",
   "execution_count": 13,
   "metadata": {},
   "outputs": [
    {
     "name": "stdout",
     "output_type": "stream",
     "text": [
      "Looking in indexes: https://pypi.org/simple, https://pypi.ngc.nvidia.com\n",
      "Requirement already satisfied: pip in d:\\dev\\ufc-predictions\\.venv\\lib\\site-packages (23.0.1)\n",
      "Looking in indexes: https://pypi.org/simple, https://pypi.ngc.nvidia.com\n",
      "Requirement already satisfied: imblearn in d:\\dev\\ufc-predictions\\.venv\\lib\\site-packages (0.0)\n",
      "Requirement already satisfied: imbalanced-learn in d:\\dev\\ufc-predictions\\.venv\\lib\\site-packages (from imblearn) (0.10.1)\n",
      "Requirement already satisfied: threadpoolctl>=2.0.0 in d:\\dev\\ufc-predictions\\.venv\\lib\\site-packages (from imbalanced-learn->imblearn) (3.1.0)\n",
      "Requirement already satisfied: scikit-learn>=1.0.2 in d:\\dev\\ufc-predictions\\.venv\\lib\\site-packages (from imbalanced-learn->imblearn) (1.2.1)\n",
      "Requirement already satisfied: scipy>=1.3.2 in d:\\dev\\ufc-predictions\\.venv\\lib\\site-packages (from imbalanced-learn->imblearn) (1.10.1)\n",
      "Requirement already satisfied: numpy>=1.17.3 in d:\\dev\\ufc-predictions\\.venv\\lib\\site-packages (from imbalanced-learn->imblearn) (1.24.2)\n",
      "Requirement already satisfied: joblib>=1.1.1 in d:\\dev\\ufc-predictions\\.venv\\lib\\site-packages (from imbalanced-learn->imblearn) (1.2.0)\n"
     ]
    }
   ],
   "source": [
    "!pip install --upgrade pip\n",
    "!pip install imblearn\n",
    "from imblearn.over_sampling import ADASYN"
   ]
  },
  {
   "cell_type": "code",
   "execution_count": 14,
   "metadata": {},
   "outputs": [],
   "source": [
    "over_sampler = ADASYN()\n",
    "X_resampled, y_resampled = over_sampler.fit_resample(X_train, y_train)"
   ]
  },
  {
   "cell_type": "code",
   "execution_count": 15,
   "metadata": {},
   "outputs": [
    {
     "data": {
      "text/plain": [
       "0    4241\n",
       "1    4062\n",
       "dtype: int64"
      ]
     },
     "execution_count": 15,
     "metadata": {},
     "output_type": "execute_result"
    }
   ],
   "source": [
    "pd.Series(y_resampled).value_counts()"
   ]
  },
  {
   "cell_type": "code",
   "execution_count": 16,
   "metadata": {},
   "outputs": [
    {
     "name": "stdout",
     "output_type": "stream",
     "text": [
      "Best number of estimators = 100\n",
      "\n",
      "Model Report: \n",
      "Accuracy (Test): 0.6637\n",
      "AUC Score (Test): 0.6870\n"
     ]
    },
    {
     "data": {
      "image/png": "[encoded data removed]",
      "text/plain": [
       "<Figure size 640x480 with 2 Axes>"
      ]
     },
     "metadata": {},
     "output_type": "display_data"
    }
   ],
   "source": [
    "model4 = XGBClassifier(n_jobs=-1, random_state=43)\n",
    "\n",
    "y4_preds = modelfit(model4, X_resampled, y_resampled, X_test, y_test)\n",
    "\n",
    "cm = confusion_matrix(y_test, y4_preds)\n",
    "\n",
    "plot_confusion(cm)"
   ]
  },
  {
   "cell_type": "markdown",
   "metadata": {},
   "source": [
    "### Hyperparameter tuning for the oversampled data"
   ]
  },
  {
   "cell_type": "code",
   "execution_count": 17,
   "metadata": {
    "scrolled": false
   },
   "outputs": [
    {
     "name": "stdout",
     "output_type": "stream",
     "text": [
      "Best number of estimators = 244\n",
      "\n",
      "Model Report: \n",
      "Accuracy (Test): 0.6696\n",
      "AUC Score (Test): 0.7019\n"
     ]
    },
    {
     "data": {
      "image/png": "[encoded data removed]",
      "text/plain": [
       "<Figure size 640x480 with 2 Axes>"
      ]
     },
     "metadata": {},
     "output_type": "display_data"
    }
   ],
   "source": [
    "model5 = XGBClassifier(\n",
    " learning_rate =0.1,\n",
    " n_estimators=244,\n",
    " max_depth=5,\n",
    " min_child_weight=1,\n",
    " gamma=0,\n",
    " subsample=0.8,\n",
    " colsample_bytree=0.8,\n",
    " objective= 'binary:logistic',\n",
    " nthread=4,\n",
    " scale_pos_weight=1,\n",
    ")\n",
    "\n",
    "y5_preds = modelfit(model5, X_resampled, y_resampled, X_test, y_test)\n",
    "\n",
    "cm = confusion_matrix(y_test, y5_preds)\n",
    "\n",
    "plot_confusion(cm)"
   ]
  },
  {
   "cell_type": "code",
   "execution_count": 18,
   "metadata": {},
   "outputs": [
    {
     "name": "stdout",
     "output_type": "stream",
     "text": [
      "\n",
      "Model Report: \n",
      "Accuracy (Test): 0.6696\n",
      "AUC Score (Test): 0.6956\n"
     ]
    },
    {
     "data": {
      "image/png": "[encoded data removed]",
      "text/plain": [
       "<Figure size 640x480 with 2 Axes>"
      ]
     },
     "metadata": {},
     "output_type": "display_data"
    }
   ],
   "source": [
    "model6 = XGBClassifier(learning_rate =0.1, n_estimators=244, max_depth=4,\n",
    "                     min_child_weight=1, gamma=0.1, subsample=0.8, colsample_bytree=0.8,\n",
    "                     objective= 'binary:logistic', reg_alpha= 0, scale_pos_weight=1)\n",
    "\n",
    "y6_preds = modelfit(model6, X_resampled, y_resampled, X_test, y_test, useTrainCV=False)\n",
    "\n",
    "cm = confusion_matrix(y_test, y6_preds)\n",
    "\n",
    "plot_confusion(cm)"
   ]
  },
  {
   "cell_type": "code",
   "execution_count": 19,
   "metadata": {},
   "outputs": [],
   "source": [
    "X_os, y_os = X_resampled, y_resampled = over_sampler.fit_resample(X, label_encoded_y)"
   ]
  },
  {
   "cell_type": "code",
   "execution_count": 20,
   "metadata": {},
   "outputs": [
    {
     "name": "stdout",
     "output_type": "stream",
     "text": [
      "              precision    recall  f1-score   support\n",
      "\n",
      "           0       0.53      0.27      0.36       221\n",
      "           1       0.72      0.89      0.79       463\n",
      "\n",
      "    accuracy                           0.69       684\n",
      "   macro avg       0.62      0.58      0.58       684\n",
      "weighted avg       0.66      0.69      0.65       684\n",
      "\n"
     ]
    }
   ],
   "source": [
    "print(classification_report(y_test, y1_preds))"
   ]
  },
  {
   "cell_type": "code",
   "execution_count": 21,
   "metadata": {},
   "outputs": [
    {
     "name": "stdout",
     "output_type": "stream",
     "text": [
      "              precision    recall  f1-score   support\n",
      "\n",
      "           0       0.48      0.42      0.45       221\n",
      "           1       0.74      0.79      0.76       463\n",
      "\n",
      "    accuracy                           0.67       684\n",
      "   macro avg       0.61      0.60      0.61       684\n",
      "weighted avg       0.66      0.67      0.66       684\n",
      "\n"
     ]
    }
   ],
   "source": [
    "print(classification_report(y_test, y2_preds))"
   ]
  },
  {
   "cell_type": "code",
   "execution_count": 22,
   "metadata": {},
   "outputs": [
    {
     "name": "stdout",
     "output_type": "stream",
     "text": [
      "              precision    recall  f1-score   support\n",
      "\n",
      "           0       0.49      0.37      0.42       221\n",
      "           1       0.73      0.81      0.77       463\n",
      "\n",
      "    accuracy                           0.67       684\n",
      "   macro avg       0.61      0.59      0.59       684\n",
      "weighted avg       0.65      0.67      0.66       684\n",
      "\n"
     ]
    }
   ],
   "source": [
    "print(classification_report(y_test, y3_preds))"
   ]
  },
  {
   "cell_type": "code",
   "execution_count": 23,
   "metadata": {},
   "outputs": [
    {
     "name": "stdout",
     "output_type": "stream",
     "text": [
      "              precision    recall  f1-score   support\n",
      "\n",
      "           0       0.48      0.39      0.43       221\n",
      "           1       0.73      0.79      0.76       463\n",
      "\n",
      "    accuracy                           0.66       684\n",
      "   macro avg       0.60      0.59      0.60       684\n",
      "weighted avg       0.65      0.66      0.65       684\n",
      "\n"
     ]
    }
   ],
   "source": [
    "print(classification_report(y_test, y4_preds))"
   ]
  },
  {
   "cell_type": "code",
   "execution_count": 24,
   "metadata": {},
   "outputs": [
    {
     "name": "stdout",
     "output_type": "stream",
     "text": [
      "              precision    recall  f1-score   support\n",
      "\n",
      "           0       0.49      0.38      0.43       221\n",
      "           1       0.73      0.81      0.77       463\n",
      "\n",
      "    accuracy                           0.67       684\n",
      "   macro avg       0.61      0.59      0.60       684\n",
      "weighted avg       0.65      0.67      0.66       684\n",
      "\n"
     ]
    }
   ],
   "source": [
    "print(classification_report(y_test, y5_preds))"
   ]
  },
  {
   "cell_type": "code",
   "execution_count": 25,
   "metadata": {},
   "outputs": [
    {
     "name": "stdout",
     "output_type": "stream",
     "text": [
      "              precision    recall  f1-score   support\n",
      "\n",
      "           0       0.49      0.38      0.43       221\n",
      "           1       0.73      0.81      0.77       463\n",
      "\n",
      "    accuracy                           0.67       684\n",
      "   macro avg       0.61      0.59      0.60       684\n",
      "weighted avg       0.65      0.67      0.66       684\n",
      "\n"
     ]
    }
   ],
   "source": [
    "print(classification_report(y_test, y6_preds))"
   ]
  },
  {
   "cell_type": "code",
   "execution_count": 26,
   "metadata": {},
   "outputs": [
    {
     "data": {
      "text/html": [
       "<style>#sk-container-id-1 {color: black;background-color: white;}#sk-container-id-1 pre{padding: 0;}#sk-container-id-1 div.sk-toggleable {background-color: white;}#sk-container-id-1 label.sk-toggleable__label {cursor: pointer;display: block;width: 100%;margin-bottom: 0;padding: 0.3em;box-sizing: border-box;text-align: center;}#sk-container-id-1 label.sk-toggleable__label-arrow:before {content: \"▸\";float: left;margin-right: 0.25em;color: #696969;}#sk-container-id-1 label.sk-toggleable__label-arrow:hover:before {color: black;}#sk-container-id-1 div.sk-estimator:hover label.sk-toggleable__label-arrow:before {color: black;}#sk-container-id-1 div.sk-toggleable__content {max-height: 0;max-width: 0;overflow: hidden;text-align: left;background-color: #f0f8ff;}#sk-container-id-1 div.sk-toggleable__content pre {margin: 0.2em;color: black;border-radius: 0.25em;background-color: #f0f8ff;}#sk-container-id-1 input.sk-toggleable__control:checked~div.sk-toggleable__content {max-height: 200px;max-width: 100%;overflow: auto;}#sk-container-id-1 input.sk-toggleable__control:checked~label.sk-toggleable__label-arrow:before {content: \"▾\";}#sk-container-id-1 div.sk-estimator input.sk-toggleable__control:checked~label.sk-toggleable__label {background-color: #d4ebff;}#sk-container-id-1 div.sk-label input.sk-toggleable__control:checked~label.sk-toggleable__label {background-color: #d4ebff;}#sk-container-id-1 input.sk-hidden--visually {border: 0;clip: rect(1px 1px 1px 1px);clip: rect(1px, 1px, 1px, 1px);height: 1px;margin: -1px;overflow: hidden;padding: 0;position: absolute;width: 1px;}#sk-container-id-1 div.sk-estimator {font-family: monospace;background-color: #f0f8ff;border: 1px dotted black;border-radius: 0.25em;box-sizing: border-box;margin-bottom: 0.5em;}#sk-container-id-1 div.sk-estimator:hover {background-color: #d4ebff;}#sk-container-id-1 div.sk-parallel-item::after {content: \"\";width: 100%;border-bottom: 1px solid gray;flex-grow: 1;}#sk-container-id-1 div.sk-label:hover label.sk-toggleable__label {background-color: #d4ebff;}#sk-container-id-1 div.sk-serial::before {content: \"\";position: absolute;border-left: 1px solid gray;box-sizing: border-box;top: 0;bottom: 0;left: 50%;z-index: 0;}#sk-container-id-1 div.sk-serial {display: flex;flex-direction: column;align-items: center;background-color: white;padding-right: 0.2em;padding-left: 0.2em;position: relative;}#sk-container-id-1 div.sk-item {position: relative;z-index: 1;}#sk-container-id-1 div.sk-parallel {display: flex;align-items: stretch;justify-content: center;background-color: white;position: relative;}#sk-container-id-1 div.sk-item::before, #sk-container-id-1 div.sk-parallel-item::before {content: \"\";position: absolute;border-left: 1px solid gray;box-sizing: border-box;top: 0;bottom: 0;left: 50%;z-index: -1;}#sk-container-id-1 div.sk-parallel-item {display: flex;flex-direction: column;z-index: 1;position: relative;background-color: white;}#sk-container-id-1 div.sk-parallel-item:first-child::after {align-self: flex-end;width: 50%;}#sk-container-id-1 div.sk-parallel-item:last-child::after {align-self: flex-start;width: 50%;}#sk-container-id-1 div.sk-parallel-item:only-child::after {width: 0;}#sk-container-id-1 div.sk-dashed-wrapped {border: 1px dashed gray;margin: 0 0.4em 0.5em 0.4em;box-sizing: border-box;padding-bottom: 0.4em;background-color: white;}#sk-container-id-1 div.sk-label label {font-family: monospace;font-weight: bold;display: inline-block;line-height: 1.2em;}#sk-container-id-1 div.sk-label-container {text-align: center;}#sk-container-id-1 div.sk-container {/* jupyter's `normalize.less` sets `[hidden] { display: none; }` but bootstrap.min.css set `[hidden] { display: none !important; }` so we also need the `!important` here to be able to override the default hidden behavior on the sphinx rendered scikit-learn.org. See: https://github.com/scikit-learn/scikit-learn/issues/21755 */display: inline-block !important;position: relative;}#sk-container-id-1 div.sk-text-repr-fallback {display: none;}</style><div id=\"sk-container-id-1\" class=\"sk-top-container\"><div class=\"sk-text-repr-fallback\"><pre>XGBClassifier(base_score=0.5, booster=None, colsample_bylevel=1,\n",
       "              colsample_bynode=1, colsample_bytree=0.8, gamma=0.1, gpu_id=-1,\n",
       "              importance_type=&#x27;gain&#x27;, interaction_constraints=None,\n",
       "              learning_rate=0.1, max_delta_step=0, max_depth=4,\n",
       "              min_child_weight=1, missing=nan, monotone_constraints=None,\n",
       "              n_estimators=244, n_jobs=0, num_parallel_tree=1, random_state=0,\n",
       "              reg_alpha=0, reg_lambda=1, scale_pos_weight=1, subsample=0.8,\n",
       "              tree_method=None, validate_parameters=False, verbosity=None)</pre><b>In a Jupyter environment, please rerun this cell to show the HTML representation or trust the notebook. <br />On GitHub, the HTML representation is unable to render, please try loading this page with nbviewer.org.</b></div><div class=\"sk-container\" hidden><div class=\"sk-item\"><div class=\"sk-estimator sk-toggleable\"><input class=\"sk-toggleable__control sk-hidden--visually\" id=\"sk-estimator-id-1\" type=\"checkbox\" checked><label for=\"sk-estimator-id-1\" class=\"sk-toggleable__label sk-toggleable__label-arrow\">XGBClassifier</label><div class=\"sk-toggleable__content\"><pre>XGBClassifier(base_score=0.5, booster=None, colsample_bylevel=1,\n",
       "              colsample_bynode=1, colsample_bytree=0.8, gamma=0.1, gpu_id=-1,\n",
       "              importance_type=&#x27;gain&#x27;, interaction_constraints=None,\n",
       "              learning_rate=0.1, max_delta_step=0, max_depth=4,\n",
       "              min_child_weight=1, missing=nan, monotone_constraints=None,\n",
       "              n_estimators=244, n_jobs=0, num_parallel_tree=1, random_state=0,\n",
       "              reg_alpha=0, reg_lambda=1, scale_pos_weight=1, subsample=0.8,\n",
       "              tree_method=None, validate_parameters=False, verbosity=None)</pre></div></div></div></div></div>"
      ],
      "text/plain": [
       "XGBClassifier(base_score=0.5, booster=None, colsample_bylevel=1,\n",
       "              colsample_bynode=1, colsample_bytree=0.8, gamma=0.1, gpu_id=-1,\n",
       "              importance_type='gain', interaction_constraints=None,\n",
       "              learning_rate=0.1, max_delta_step=0, max_depth=4,\n",
       "              min_child_weight=1, missing=nan, monotone_constraints=None,\n",
       "              n_estimators=244, n_jobs=0, num_parallel_tree=1, random_state=0,\n",
       "              reg_alpha=0, reg_lambda=1, scale_pos_weight=1, subsample=0.8,\n",
       "              tree_method=None, validate_parameters=False, verbosity=None)"
      ]
     },
     "execution_count": 26,
     "metadata": {},
     "output_type": "execute_result"
    }
   ],
   "source": [
    "model = model6\n",
    "\n",
    "model.fit(np.array(X_os), np.array(y_os))"
   ]
  },
  {
   "cell_type": "code",
   "execution_count": 27,
   "metadata": {},
   "outputs": [],
   "source": [
    "with open('../models/model-new.sav', 'wb') as mdl:\n",
    "    pickle.dump(model, mdl)"
   ]
  },
  {
   "cell_type": "code",
   "execution_count": null,
   "metadata": {},
   "outputs": [],
   "source": []
  },
  {
   "cell_type": "code",
   "execution_count": null,
   "metadata": {},
   "outputs": [],
   "source": []
  }
 ],
 "metadata": {
  "kernelspec": {
   "display_name": ".venv",
   "language": "python",
   "name": "python3"
  },
  "language_info": {
   "codemirror_mode": {
    "name": "ipython",
    "version": 3
   },
   "file_extension": ".py",
   "mimetype": "text/x-python",
   "name": "python",
   "nbconvert_exporter": "python",
   "pygments_lexer": "ipython3",
   "version": "3.10.3"
  },
  "vscode": {
   "interpreter": {
    "hash": "dad91d58c16ceb4cae50f987a9a88c7b95e1dab218045da93da7cd29d6261c1a"
   }
  }
 },
 "nbformat": 4,
 "nbformat_minor": 2
}
